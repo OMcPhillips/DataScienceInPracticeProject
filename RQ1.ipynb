{
 "cells": [
  {
   "cell_type": "code",
   "execution_count": 60,
   "metadata": {},
   "outputs": [],
   "source": [
    "from scipy import stats\n",
    "import numpy as np\n",
    "import pandas as pd\n",
    "import matplotlib.pyplot as plt\n",
    "%matplotlib inline\n",
    "import seaborn as sns"
   ]
  },
  {
   "cell_type": "markdown",
   "metadata": {},
   "source": [
    "# Connection between Population and Atheletes' Performance\n",
    "\n",
    "\n",
    "\n"
   ]
  },
  {
   "cell_type": "code",
   "execution_count": 61,
   "metadata": {},
   "outputs": [],
   "source": [
    "Population = pd.read_csv('athletePopulation.csv')"
   ]
  },
  {
   "cell_type": "code",
   "execution_count": 62,
   "metadata": {},
   "outputs": [
    {
     "data": {
      "text/html": [
       "<div>\n",
       "<style scoped>\n",
       "    .dataframe tbody tr th:only-of-type {\n",
       "        vertical-align: middle;\n",
       "    }\n",
       "\n",
       "    .dataframe tbody tr th {\n",
       "        vertical-align: top;\n",
       "    }\n",
       "\n",
       "    .dataframe thead th {\n",
       "        text-align: right;\n",
       "    }\n",
       "</style>\n",
       "<table border=\"1\" class=\"dataframe\">\n",
       "  <thead>\n",
       "    <tr style=\"text-align: right;\">\n",
       "      <th>Medal</th>\n",
       "      <th>Country</th>\n",
       "      <th>Year</th>\n",
       "      <th>Population</th>\n",
       "      <th>Bronze</th>\n",
       "      <th>Gold</th>\n",
       "      <th>Silver</th>\n",
       "      <th>Grade</th>\n",
       "    </tr>\n",
       "  </thead>\n",
       "  <tbody>\n",
       "    <tr>\n",
       "      <th>0</th>\n",
       "      <td>Afghanistan</td>\n",
       "      <td>1960</td>\n",
       "      <td>8996351.0</td>\n",
       "      <td>0</td>\n",
       "      <td>0</td>\n",
       "      <td>0</td>\n",
       "      <td>0</td>\n",
       "    </tr>\n",
       "    <tr>\n",
       "      <th>1</th>\n",
       "      <td>Afghanistan</td>\n",
       "      <td>1964</td>\n",
       "      <td>9731361.0</td>\n",
       "      <td>0</td>\n",
       "      <td>0</td>\n",
       "      <td>0</td>\n",
       "      <td>0</td>\n",
       "    </tr>\n",
       "    <tr>\n",
       "      <th>2</th>\n",
       "      <td>Afghanistan</td>\n",
       "      <td>1968</td>\n",
       "      <td>10604346.0</td>\n",
       "      <td>0</td>\n",
       "      <td>0</td>\n",
       "      <td>0</td>\n",
       "      <td>0</td>\n",
       "    </tr>\n",
       "    <tr>\n",
       "      <th>3</th>\n",
       "      <td>Afghanistan</td>\n",
       "      <td>1972</td>\n",
       "      <td>11721940.0</td>\n",
       "      <td>0</td>\n",
       "      <td>0</td>\n",
       "      <td>0</td>\n",
       "      <td>0</td>\n",
       "    </tr>\n",
       "    <tr>\n",
       "      <th>4</th>\n",
       "      <td>Afghanistan</td>\n",
       "      <td>1980</td>\n",
       "      <td>13248370.0</td>\n",
       "      <td>0</td>\n",
       "      <td>0</td>\n",
       "      <td>0</td>\n",
       "      <td>0</td>\n",
       "    </tr>\n",
       "  </tbody>\n",
       "</table>\n",
       "</div>"
      ],
      "text/plain": [
       "Medal      Country  Year  Population  Bronze  Gold  Silver  Grade\n",
       "0      Afghanistan  1960   8996351.0       0     0       0      0\n",
       "1      Afghanistan  1964   9731361.0       0     0       0      0\n",
       "2      Afghanistan  1968  10604346.0       0     0       0      0\n",
       "3      Afghanistan  1972  11721940.0       0     0       0      0\n",
       "4      Afghanistan  1980  13248370.0       0     0       0      0"
      ]
     },
     "execution_count": 62,
     "metadata": {},
     "output_type": "execute_result"
    }
   ],
   "source": [
    "events = pd.pivot_table(Population,  index = ['Country', 'Year','Population'], columns = 'Medal', values = 'Medal_Won', aggfunc = 'sum',fill_value = 0).drop('DNW', axis = 1).reset_index()\n",
    "\n",
    "events['Grade'] = np.where((events['Gold']>0) | (events['Silver']>0) | (events['Bronze']>0), events['Gold']*3+events['Silver']*2+events['Bronze'],0)\n",
    "\n",
    "\n",
    "events.head()"
   ]
  },
  {
   "cell_type": "code",
   "execution_count": 63,
   "metadata": {},
   "outputs": [],
   "source": [
    "from statistics import mean\n",
    "import numpy as np\n",
    "import matplotlib.pyplot as plt\n",
    "from matplotlib import style\n",
    "\n",
    "# calculate the R_Squared values \n",
    "\n",
    "def best_fit_slope_and_intercept(xs,ys):\n",
    "    m = (((mean(xs)*mean(ys)) - mean(xs*ys)) /\n",
    "         ((mean(xs)*mean(xs)) - mean(xs*xs)))\n",
    "    b = mean(ys) - m*mean(xs)\n",
    "    return m, b\n",
    "\n",
    "def squared_error(ys_orig,ys_line):\n",
    "    return sum((ys_line - ys_orig) * (ys_line - ys_orig))\n",
    "\n",
    "def coefficient_of_determination(ys_orig,ys_line):\n",
    "    y_mean_line = [mean(ys_orig) for y in ys_orig]\n",
    "    squared_error_regr = squared_error(ys_orig, ys_line)\n",
    "    squared_error_y_mean = squared_error(ys_orig, y_mean_line)\n",
    "    return 1 - (squared_error_regr/squared_error_y_mean)"
   ]
  },
  {
   "cell_type": "code",
   "execution_count": 64,
   "metadata": {},
   "outputs": [
    {
     "name": "stdout",
     "output_type": "stream",
     "text": [
      "0.23717357841644324\n",
      "0.0617421109806946\n"
     ]
    }
   ],
   "source": [
    "grade = events['Grade'] > 0\n",
    "\n",
    "correlation = events.loc[grade, ['Population', 'Grade']].corr()['Grade'][0]\n",
    "\n",
    "print(correlation)\n",
    "\n",
    "m, b = best_fit_slope_and_intercept(events['Grade'],events['Population'])\n",
    "regression_line = [(m*x)+b for x in events['Grade']]\n",
    "\n",
    "r_squared = coefficient_of_determination(events['Population'],regression_line)\n",
    "print(r_squared)"
   ]
  },
  {
   "cell_type": "code",
   "execution_count": 65,
   "metadata": {},
   "outputs": [
    {
     "data": {
      "image/png": "[encoded data removed]",
      "text/plain": [
       "<Figure size 360x360 with 1 Axes>"
      ]
     },
     "metadata": {
      "needs_background": "light"
     },
     "output_type": "display_data"
    }
   ],
   "source": [
    "sns.lmplot(x=\"Grade\", y=\"Population\",data=events)\n",
    "plt.text(600,1400000000, \"correlation: 0.237173\" , fontsize = 10, color='black', fontstyle='italic')\n",
    "plt.text(600,1300000000, \"R^2: 0.06174211098\" , fontsize = 10, color='black', fontstyle='italic')\n",
    "plt.suptitle('Connection between Population and Athletes\\' Grade', size=15, y=1);      "
   ]
  },
  {
   "cell_type": "code",
   "execution_count": 66,
   "metadata": {},
   "outputs": [
    {
     "data": {
      "text/plain": [
       "Country\n",
       "USA          3623\n",
       "Australia    1153\n",
       "Russia       1132\n",
       "China         985\n",
       "Name: All, dtype: int64"
      ]
     },
     "execution_count": 66,
     "metadata": {},
     "output_type": "execute_result"
    }
   ],
   "source": [
    "# find the top contries that won most total medals \n",
    "\n",
    "medal_total = Population.groupby(['Year','Country','Population'])['Medal_Won'].agg('sum').reset_index()\n",
    "medal_total = medal_total.loc[medal_total['Medal_Won'] > 0, :]\n",
    "medal_total_pivot = pd.pivot_table(medal_total,\n",
    "                     index = 'Country',\n",
    "                     columns = 'Year',\n",
    "                     values = 'Medal_Won',\n",
    "                     aggfunc = 'sum',\n",
    "                     margins = True).sort_values('All', ascending = False)[1:5]\n",
    "\n",
    "medal_total_pivot.loc[:,'All']"
   ]
  },
  {
   "cell_type": "code",
   "execution_count": 67,
   "metadata": {},
   "outputs": [
    {
     "data": {
      "text/html": [
       "<div>\n",
       "<style scoped>\n",
       "    .dataframe tbody tr th:only-of-type {\n",
       "        vertical-align: middle;\n",
       "    }\n",
       "\n",
       "    .dataframe tbody tr th {\n",
       "        vertical-align: top;\n",
       "    }\n",
       "\n",
       "    .dataframe thead th {\n",
       "        text-align: right;\n",
       "    }\n",
       "</style>\n",
       "<table border=\"1\" class=\"dataframe\">\n",
       "  <thead>\n",
       "    <tr style=\"text-align: right;\">\n",
       "      <th>Medal</th>\n",
       "      <th>Country</th>\n",
       "      <th>Year</th>\n",
       "      <th>Population</th>\n",
       "      <th>Bronze</th>\n",
       "      <th>Gold</th>\n",
       "      <th>Silver</th>\n",
       "      <th>Grade</th>\n",
       "    </tr>\n",
       "  </thead>\n",
       "  <tbody>\n",
       "    <tr>\n",
       "      <th>69</th>\n",
       "      <td>Australia</td>\n",
       "      <td>1960</td>\n",
       "      <td>10276477.0</td>\n",
       "      <td>11</td>\n",
       "      <td>10</td>\n",
       "      <td>21</td>\n",
       "      <td>83</td>\n",
       "    </tr>\n",
       "    <tr>\n",
       "      <th>70</th>\n",
       "      <td>Australia</td>\n",
       "      <td>1964</td>\n",
       "      <td>11167000.0</td>\n",
       "      <td>26</td>\n",
       "      <td>8</td>\n",
       "      <td>3</td>\n",
       "      <td>56</td>\n",
       "    </tr>\n",
       "    <tr>\n",
       "      <th>71</th>\n",
       "      <td>Australia</td>\n",
       "      <td>1968</td>\n",
       "      <td>12009000.0</td>\n",
       "      <td>11</td>\n",
       "      <td>5</td>\n",
       "      <td>35</td>\n",
       "      <td>96</td>\n",
       "    </tr>\n",
       "    <tr>\n",
       "      <th>72</th>\n",
       "      <td>Australia</td>\n",
       "      <td>1972</td>\n",
       "      <td>13177000.0</td>\n",
       "      <td>2</td>\n",
       "      <td>11</td>\n",
       "      <td>7</td>\n",
       "      <td>49</td>\n",
       "    </tr>\n",
       "    <tr>\n",
       "      <th>73</th>\n",
       "      <td>Australia</td>\n",
       "      <td>1976</td>\n",
       "      <td>14033000.0</td>\n",
       "      <td>7</td>\n",
       "      <td>0</td>\n",
       "      <td>15</td>\n",
       "      <td>37</td>\n",
       "    </tr>\n",
       "  </tbody>\n",
       "</table>\n",
       "</div>"
      ],
      "text/plain": [
       "Medal    Country  Year  Population  Bronze  Gold  Silver  Grade\n",
       "69     Australia  1960  10276477.0      11    10      21     83\n",
       "70     Australia  1964  11167000.0      26     8       3     56\n",
       "71     Australia  1968  12009000.0      11     5      35     96\n",
       "72     Australia  1972  13177000.0       2    11       7     49\n",
       "73     Australia  1976  14033000.0       7     0      15     37"
      ]
     },
     "execution_count": 67,
     "metadata": {},
     "output_type": "execute_result"
    }
   ],
   "source": [
    "countries = ['USA', 'Australia', 'Russia']\n",
    "top_countries = events[events.Country.isin(countries)]\n",
    "top_countries.head()"
   ]
  },
  {
   "cell_type": "code",
   "execution_count": 68,
   "metadata": {},
   "outputs": [
    {
     "data": {
      "text/html": [
       "<div>\n",
       "<style scoped>\n",
       "    .dataframe tbody tr th:only-of-type {\n",
       "        vertical-align: middle;\n",
       "    }\n",
       "\n",
       "    .dataframe tbody tr th {\n",
       "        vertical-align: top;\n",
       "    }\n",
       "\n",
       "    .dataframe thead th {\n",
       "        text-align: right;\n",
       "    }\n",
       "</style>\n",
       "<table border=\"1\" class=\"dataframe\">\n",
       "  <thead>\n",
       "    <tr style=\"text-align: right;\">\n",
       "      <th>Country</th>\n",
       "      <th>Year</th>\n",
       "      <th>Australia</th>\n",
       "      <th>Russia</th>\n",
       "      <th>USA</th>\n",
       "    </tr>\n",
       "  </thead>\n",
       "  <tbody>\n",
       "    <tr>\n",
       "      <th>0</th>\n",
       "      <td>1960</td>\n",
       "      <td>0.425930</td>\n",
       "      <td>NaN</td>\n",
       "      <td>0.559132</td>\n",
       "    </tr>\n",
       "    <tr>\n",
       "      <th>1</th>\n",
       "      <td>1964</td>\n",
       "      <td>0.462839</td>\n",
       "      <td>NaN</td>\n",
       "      <td>0.593849</td>\n",
       "    </tr>\n",
       "    <tr>\n",
       "      <th>2</th>\n",
       "      <td>1968</td>\n",
       "      <td>0.497738</td>\n",
       "      <td>NaN</td>\n",
       "      <td>0.621136</td>\n",
       "    </tr>\n",
       "    <tr>\n",
       "      <th>3</th>\n",
       "      <td>1972</td>\n",
       "      <td>0.546148</td>\n",
       "      <td>NaN</td>\n",
       "      <td>0.649576</td>\n",
       "    </tr>\n",
       "    <tr>\n",
       "      <th>4</th>\n",
       "      <td>1976</td>\n",
       "      <td>0.581627</td>\n",
       "      <td>NaN</td>\n",
       "      <td>0.674765</td>\n",
       "    </tr>\n",
       "  </tbody>\n",
       "</table>\n",
       "</div>"
      ],
      "text/plain": [
       "Country  Year  Australia  Russia       USA\n",
       "0        1960   0.425930     NaN  0.559132\n",
       "1        1964   0.462839     NaN  0.593849\n",
       "2        1968   0.497738     NaN  0.621136\n",
       "3        1972   0.546148     NaN  0.649576\n",
       "4        1976   0.581627     NaN  0.674765"
      ]
     },
     "execution_count": 68,
     "metadata": {},
     "output_type": "execute_result"
    }
   ],
   "source": [
    "# normalize population data  \n",
    "a = top_countries.pivot(index='Year', columns='Country', values='Population').reset_index()\n",
    "a[\"Australia\"] = a[\"Australia\"] / a[\"Australia\"].max()\n",
    "a[\"Russia\"] = a[\"Russia\"] / a[\"Russia\"].max()\n",
    "a[\"USA\"] = a[\"USA\"] / a[\"USA\"].max()\n",
    "a.head()"
   ]
  },
  {
   "cell_type": "code",
   "execution_count": 69,
   "metadata": {},
   "outputs": [
    {
     "data": {
      "text/html": [
       "<div>\n",
       "<style scoped>\n",
       "    .dataframe tbody tr th:only-of-type {\n",
       "        vertical-align: middle;\n",
       "    }\n",
       "\n",
       "    .dataframe tbody tr th {\n",
       "        vertical-align: top;\n",
       "    }\n",
       "\n",
       "    .dataframe thead th {\n",
       "        text-align: right;\n",
       "    }\n",
       "</style>\n",
       "<table border=\"1\" class=\"dataframe\">\n",
       "  <thead>\n",
       "    <tr style=\"text-align: right;\">\n",
       "      <th></th>\n",
       "      <th>Year</th>\n",
       "      <th>Country</th>\n",
       "      <th>normalized_Population</th>\n",
       "      <th>Population</th>\n",
       "      <th>Bronze</th>\n",
       "      <th>Gold</th>\n",
       "      <th>Silver</th>\n",
       "      <th>Grade</th>\n",
       "    </tr>\n",
       "  </thead>\n",
       "  <tbody>\n",
       "    <tr>\n",
       "      <th>0</th>\n",
       "      <td>1960</td>\n",
       "      <td>Australia</td>\n",
       "      <td>0.425930</td>\n",
       "      <td>10276477.0</td>\n",
       "      <td>11</td>\n",
       "      <td>10</td>\n",
       "      <td>21</td>\n",
       "      <td>83</td>\n",
       "    </tr>\n",
       "    <tr>\n",
       "      <th>1</th>\n",
       "      <td>1964</td>\n",
       "      <td>Australia</td>\n",
       "      <td>0.462839</td>\n",
       "      <td>11167000.0</td>\n",
       "      <td>26</td>\n",
       "      <td>8</td>\n",
       "      <td>3</td>\n",
       "      <td>56</td>\n",
       "    </tr>\n",
       "    <tr>\n",
       "      <th>2</th>\n",
       "      <td>1968</td>\n",
       "      <td>Australia</td>\n",
       "      <td>0.497738</td>\n",
       "      <td>12009000.0</td>\n",
       "      <td>11</td>\n",
       "      <td>5</td>\n",
       "      <td>35</td>\n",
       "      <td>96</td>\n",
       "    </tr>\n",
       "    <tr>\n",
       "      <th>3</th>\n",
       "      <td>1972</td>\n",
       "      <td>Australia</td>\n",
       "      <td>0.546148</td>\n",
       "      <td>13177000.0</td>\n",
       "      <td>2</td>\n",
       "      <td>11</td>\n",
       "      <td>7</td>\n",
       "      <td>49</td>\n",
       "    </tr>\n",
       "    <tr>\n",
       "      <th>4</th>\n",
       "      <td>1976</td>\n",
       "      <td>Australia</td>\n",
       "      <td>0.581627</td>\n",
       "      <td>14033000.0</td>\n",
       "      <td>7</td>\n",
       "      <td>0</td>\n",
       "      <td>15</td>\n",
       "      <td>37</td>\n",
       "    </tr>\n",
       "  </tbody>\n",
       "</table>\n",
       "</div>"
      ],
      "text/plain": [
       "   Year    Country  normalized_Population  Population  Bronze  Gold  Silver  \\\n",
       "0  1960  Australia               0.425930  10276477.0      11    10      21   \n",
       "1  1964  Australia               0.462839  11167000.0      26     8       3   \n",
       "2  1968  Australia               0.497738  12009000.0      11     5      35   \n",
       "3  1972  Australia               0.546148  13177000.0       2    11       7   \n",
       "4  1976  Australia               0.581627  14033000.0       7     0      15   \n",
       "\n",
       "   Grade  \n",
       "0     83  \n",
       "1     56  \n",
       "2     96  \n",
       "3     49  \n",
       "4     37  "
      ]
     },
     "execution_count": 69,
     "metadata": {},
     "output_type": "execute_result"
    }
   ],
   "source": [
    "normalized_df = a.melt(id_vars=['Year'], var_name='Country')\n",
    "normalized_df = pd.merge(normalized_df, top_countries, left_on = ['Country', 'Year'], right_on = ['Country', 'Year'])\n",
    "\n",
    "normalized_df = normalized_df.rename(columns={\"value\": \"normalized_Population\"})\n",
    "normalized_df.head()"
   ]
  },
  {
   "cell_type": "code",
   "execution_count": 70,
   "metadata": {},
   "outputs": [
    {
     "name": "stdout",
     "output_type": "stream",
     "text": [
      "0.0007720856305344359\n",
      "0.0017054976967449953\n",
      "0.052074482736766736\n"
     ]
    }
   ],
   "source": [
    "Australia = normalized_df[normalized_df['Country'] == 'Australia']\n",
    "Russia = normalized_df[normalized_df['Country'] == 'Russia']\n",
    "USA = normalized_df[normalized_df['Country'] == 'USA']\n",
    "\n",
    "m, b = best_fit_slope_and_intercept(USA['Grade'],USA['normalized_Population'])\n",
    "regression_line = [(m*x)+b for x in USA['Grade']]\n",
    "m2, b2 = best_fit_slope_and_intercept(Russia['Grade'],Russia['normalized_Population'])\n",
    "regression_line2 = [(m2*x)+b2 for x in Russia['Grade']]\n",
    "m3, b3 = best_fit_slope_and_intercept(Australia['Grade'],Australia['normalized_Population'])\n",
    "regression_line3 = [(m3*x)+b3 for x in Australia['Grade']]\n",
    "\n",
    "r_squared = coefficient_of_determination(USA['normalized_Population'],regression_line)\n",
    "print(r_squared)\n",
    "r_squared2 = coefficient_of_determination(Russia['normalized_Population'],regression_line2)\n",
    "print(r_squared2)\n",
    "r_squared3 = coefficient_of_determination(Australia['normalized_Population'],regression_line3)\n",
    "print(r_squared3)"
   ]
  },
  {
   "cell_type": "code",
   "execution_count": 71,
   "metadata": {},
   "outputs": [
    {
     "data": {
      "image/png": "[encoded data removed]",
      "text/plain": [
       "<Figure size 440.5x360 with 1 Axes>"
      ]
     },
     "metadata": {
      "needs_background": "light"
     },
     "output_type": "display_data"
    }
   ],
   "source": [
    "p = sns.lmplot(x=\"Grade\", y=\"normalized_Population\", hue=\"Country\", data=normalized_df)\n",
    "ax = p.axes[0, 0]\n",
    "ax.legend()\n",
    "leg = ax.get_legend()\n",
    "L_labels = leg.get_texts()\n",
    "# assuming you computed r_squared which is the coefficient of determination somewhere else\n",
    "label_line_1 = r'$R^2:{0:.4f}$'.format(r_squared)\n",
    "label_line_2 = r'$R^2:{0:.4f}$'.format(r_squared2) \n",
    "label_line_3 = r'$R^2:{0:.4f}$'.format(r_squared3) \n",
    "\n",
    "L_labels[0].set_text(label_line_3)\n",
    "L_labels[1].set_text(label_line_2)\n",
    "L_labels[2].set_text(label_line_1)\n",
    "\n",
    "\n",
    "plt.suptitle('Connection between to countries\\'s Population and Athletes\\' Grade', size=15, y=1);      \n",
    "\n"
   ]
  },
  {
   "cell_type": "markdown",
   "metadata": {},
   "source": [
    "# Connection between Population and Atheletes' Performance"
   ]
  },
  {
   "cell_type": "code",
   "execution_count": 72,
   "metadata": {},
   "outputs": [],
   "source": [
    "determineDF = pd.read_csv('athleteGDP.csv')"
   ]
  },
  {
   "cell_type": "code",
   "execution_count": 73,
   "metadata": {},
   "outputs": [
    {
     "data": {
      "text/html": [
       "<div>\n",
       "<style scoped>\n",
       "    .dataframe tbody tr th:only-of-type {\n",
       "        vertical-align: middle;\n",
       "    }\n",
       "\n",
       "    .dataframe tbody tr th {\n",
       "        vertical-align: top;\n",
       "    }\n",
       "\n",
       "    .dataframe thead th {\n",
       "        text-align: right;\n",
       "    }\n",
       "</style>\n",
       "<table border=\"1\" class=\"dataframe\">\n",
       "  <thead>\n",
       "    <tr style=\"text-align: right;\">\n",
       "      <th>Medal</th>\n",
       "      <th>Country</th>\n",
       "      <th>Games Year</th>\n",
       "      <th>Games Year GDP</th>\n",
       "      <th>Bronze</th>\n",
       "      <th>Gold</th>\n",
       "      <th>Silver</th>\n",
       "      <th>Grade</th>\n",
       "    </tr>\n",
       "  </thead>\n",
       "  <tbody>\n",
       "    <tr>\n",
       "      <th>0</th>\n",
       "      <td>Afghanistan</td>\n",
       "      <td>1964</td>\n",
       "      <td>5.377778e+08</td>\n",
       "      <td>0</td>\n",
       "      <td>0</td>\n",
       "      <td>0</td>\n",
       "      <td>0</td>\n",
       "    </tr>\n",
       "    <tr>\n",
       "      <th>1</th>\n",
       "      <td>Afghanistan</td>\n",
       "      <td>1968</td>\n",
       "      <td>8.000000e+08</td>\n",
       "      <td>0</td>\n",
       "      <td>0</td>\n",
       "      <td>0</td>\n",
       "      <td>0</td>\n",
       "    </tr>\n",
       "    <tr>\n",
       "      <th>2</th>\n",
       "      <td>Afghanistan</td>\n",
       "      <td>1972</td>\n",
       "      <td>1.373333e+09</td>\n",
       "      <td>0</td>\n",
       "      <td>0</td>\n",
       "      <td>0</td>\n",
       "      <td>0</td>\n",
       "    </tr>\n",
       "    <tr>\n",
       "      <th>3</th>\n",
       "      <td>Afghanistan</td>\n",
       "      <td>1980</td>\n",
       "      <td>2.555556e+09</td>\n",
       "      <td>0</td>\n",
       "      <td>0</td>\n",
       "      <td>0</td>\n",
       "      <td>0</td>\n",
       "    </tr>\n",
       "    <tr>\n",
       "      <th>4</th>\n",
       "      <td>Afghanistan</td>\n",
       "      <td>2008</td>\n",
       "      <td>5.285466e+09</td>\n",
       "      <td>1</td>\n",
       "      <td>0</td>\n",
       "      <td>0</td>\n",
       "      <td>1</td>\n",
       "    </tr>\n",
       "  </tbody>\n",
       "</table>\n",
       "</div>"
      ],
      "text/plain": [
       "Medal      Country  Games Year  Games Year GDP  Bronze  Gold  Silver  Grade\n",
       "0      Afghanistan        1964    5.377778e+08       0     0       0      0\n",
       "1      Afghanistan        1968    8.000000e+08       0     0       0      0\n",
       "2      Afghanistan        1972    1.373333e+09       0     0       0      0\n",
       "3      Afghanistan        1980    2.555556e+09       0     0       0      0\n",
       "4      Afghanistan        2008    5.285466e+09       1     0       0      1"
      ]
     },
     "execution_count": 73,
     "metadata": {},
     "output_type": "execute_result"
    }
   ],
   "source": [
    "events = pd.pivot_table(determineDF,\n",
    "                                      index = ['Country', 'Games Year','Games Year GDP'],\n",
    "                                      columns = 'Medal',\n",
    "                                      values = 'Medal_Won',\n",
    "                                      aggfunc = 'sum',\n",
    "                                     fill_value = 0).drop('DNW', axis = 1).reset_index()\n",
    "\n",
    "\n",
    "events['Grade'] = np.where((events['Gold']>0) | (events['Silver']>0) | (events['Bronze']>0), events['Gold']*3+events['Silver']*2+events['Bronze'],0)\n",
    "\n",
    "\n",
    "events.head()"
   ]
  },
  {
   "cell_type": "code",
   "execution_count": 74,
   "metadata": {},
   "outputs": [
    {
     "name": "stdout",
     "output_type": "stream",
     "text": [
      "0.343791151050279\n",
      "0.5553541728082964\n"
     ]
    }
   ],
   "source": [
    "Grade = events['Grade'] > 0\n",
    "\n",
    "correlation = events.loc[Grade, ['Games Year GDP', 'Grade']].corr()['Grade'][0]\n",
    "m, b = best_fit_slope_and_intercept(events['Grade'],events['Games Year GDP'])\n",
    "regression_line = [(m*x)+b for x in events['Grade']]\n",
    "\n",
    "r_squared = coefficient_of_determination(events['Games Year GDP'],regression_line)\n",
    "print(r_squared)\n",
    "print(correlation)"
   ]
  },
  {
   "cell_type": "code",
   "execution_count": 75,
   "metadata": {},
   "outputs": [
    {
     "data": {
      "image/png": "[encoded data removed]",
      "text/plain": [
       "<Figure size 360x360 with 1 Axes>"
      ]
     },
     "metadata": {
      "needs_background": "light"
     },
     "output_type": "display_data"
    }
   ],
   "source": [
    "p = sns.lmplot(x=\"Grade\", y=\"Games Year GDP\",  data=events)\n",
    "ax = p.axes[0, 0]\n",
    "\n",
    "# assuming you computed r_squared which is the coefficient of determination somewhere else\n",
    "plt.text(600,16000000000000, \"correlation: 0.5553\" , fontsize = 10, color='black', fontstyle='italic')\n",
    "plt.text(600,15000000000000, \"R^2: 0.34379115\" , fontsize = 10, color='black', fontstyle='italic')\n",
    "plt.suptitle('Connection between GDP and Athletes\\' Grade', size=15, y=1.05);      "
   ]
  },
  {
   "cell_type": "code",
   "execution_count": 76,
   "metadata": {},
   "outputs": [],
   "source": [
    "events = pd.pivot_table(determineDF,\n",
    "                                      index = ['Country', 'Games Year','Deter Year GDP'],\n",
    "                                      columns = 'Medal',\n",
    "                                      values = 'Medal_Won',\n",
    "                                      aggfunc = 'sum',\n",
    "                                     fill_value = 0).drop('DNW', axis = 1).reset_index()\n",
    "events['Grade'] = np.where((events['Gold']>0) | (events['Silver']>0) | (events['Bronze']>0), events['Gold']*3+events['Silver']*2+events['Bronze'],0)\n",
    "\n"
   ]
  },
  {
   "cell_type": "code",
   "execution_count": 77,
   "metadata": {},
   "outputs": [
    {
     "data": {
      "text/html": [
       "<div>\n",
       "<style scoped>\n",
       "    .dataframe tbody tr th:only-of-type {\n",
       "        vertical-align: middle;\n",
       "    }\n",
       "\n",
       "    .dataframe tbody tr th {\n",
       "        vertical-align: top;\n",
       "    }\n",
       "\n",
       "    .dataframe thead th {\n",
       "        text-align: right;\n",
       "    }\n",
       "</style>\n",
       "<table border=\"1\" class=\"dataframe\">\n",
       "  <thead>\n",
       "    <tr style=\"text-align: right;\">\n",
       "      <th>Medal</th>\n",
       "      <th>Country</th>\n",
       "      <th>Games Year</th>\n",
       "      <th>Deter Year GDP</th>\n",
       "      <th>Bronze</th>\n",
       "      <th>Gold</th>\n",
       "      <th>Silver</th>\n",
       "      <th>Grade</th>\n",
       "    </tr>\n",
       "  </thead>\n",
       "  <tbody>\n",
       "    <tr>\n",
       "      <th>4</th>\n",
       "      <td>Afghanistan</td>\n",
       "      <td>2008</td>\n",
       "      <td>1.019053e+10</td>\n",
       "      <td>1</td>\n",
       "      <td>0</td>\n",
       "      <td>0</td>\n",
       "      <td>1</td>\n",
       "    </tr>\n",
       "    <tr>\n",
       "      <th>5</th>\n",
       "      <td>Afghanistan</td>\n",
       "      <td>2012</td>\n",
       "      <td>2.053654e+10</td>\n",
       "      <td>1</td>\n",
       "      <td>0</td>\n",
       "      <td>0</td>\n",
       "      <td>1</td>\n",
       "    </tr>\n",
       "    <tr>\n",
       "      <th>6</th>\n",
       "      <td>Afghanistan</td>\n",
       "      <td>2016</td>\n",
       "      <td>1.946902e+10</td>\n",
       "      <td>0</td>\n",
       "      <td>0</td>\n",
       "      <td>0</td>\n",
       "      <td>0</td>\n",
       "    </tr>\n",
       "    <tr>\n",
       "      <th>12</th>\n",
       "      <td>Albania</td>\n",
       "      <td>2008</td>\n",
       "      <td>1.288135e+10</td>\n",
       "      <td>0</td>\n",
       "      <td>0</td>\n",
       "      <td>0</td>\n",
       "      <td>0</td>\n",
       "    </tr>\n",
       "    <tr>\n",
       "      <th>14</th>\n",
       "      <td>Albania</td>\n",
       "      <td>2012</td>\n",
       "      <td>1.231978e+10</td>\n",
       "      <td>0</td>\n",
       "      <td>0</td>\n",
       "      <td>0</td>\n",
       "      <td>0</td>\n",
       "    </tr>\n",
       "  </tbody>\n",
       "</table>\n",
       "</div>"
      ],
      "text/plain": [
       "Medal      Country  Games Year  Deter Year GDP  Bronze  Gold  Silver  Grade\n",
       "4      Afghanistan        2008    1.019053e+10       1     0       0      1\n",
       "5      Afghanistan        2012    2.053654e+10       1     0       0      1\n",
       "6      Afghanistan        2016    1.946902e+10       0     0       0      0\n",
       "12         Albania        2008    1.288135e+10       0     0       0      0\n",
       "14         Albania        2012    1.231978e+10       0     0       0      0"
      ]
     },
     "execution_count": 77,
     "metadata": {},
     "output_type": "execute_result"
    }
   ],
   "source": [
    "top_year= ['2016','2012','2008']\n",
    "top_countries = events[events['Games Year'].isin(top_year)]\n",
    "top_countries.head()"
   ]
  },
  {
   "cell_type": "code",
   "execution_count": 78,
   "metadata": {},
   "outputs": [
    {
     "name": "stdout",
     "output_type": "stream",
     "text": [
      "0.7915955430353354\n",
      "0.8218924946214374\n",
      "0.7184909997194675\n"
     ]
    }
   ],
   "source": [
    "c2008 = top_countries[top_countries['Games Year'] == 2008]\n",
    "c2012 = top_countries[top_countries['Games Year'] == 2012]\n",
    "c2016 = top_countries[top_countries['Games Year'] == 2016]\n",
    "\n",
    "\n",
    "m, b = best_fit_slope_and_intercept(c2008['Grade'],c2008['Deter Year GDP'])\n",
    "regression_line = [(m*x)+b for x in c2008['Grade']]\n",
    "\n",
    "r_squared = coefficient_of_determination(c2008['Deter Year GDP'],regression_line)\n",
    "print(r_squared)\n",
    "\n",
    "m2, b2 = best_fit_slope_and_intercept(c2012['Grade'],c2012['Deter Year GDP'])\n",
    "regression_line2 = [(m2*x)+b2 for x in c2012['Grade']]\n",
    "\n",
    "r_squared2 = coefficient_of_determination(c2012['Deter Year GDP'],regression_line2)\n",
    "print(r_squared2)\n",
    "\n",
    "m3, b3 = best_fit_slope_and_intercept(c2016['Grade'],c2016['Deter Year GDP'])\n",
    "regression_line3 = [(m3*x)+b3 for x in c2016['Grade']]\n",
    "\n",
    "r_squared3 = coefficient_of_determination(c2016['Deter Year GDP'],regression_line3)\n",
    "print(r_squared3)"
   ]
  },
  {
   "cell_type": "code",
   "execution_count": 79,
   "metadata": {},
   "outputs": [
    {
     "data": {
      "image/png": "[encoded data removed]",
      "text/plain": [
       "<Figure size 360x360 with 1 Axes>"
      ]
     },
     "metadata": {
      "needs_background": "light"
     },
     "output_type": "display_data"
    }
   ],
   "source": [
    "p = sns.lmplot(x=\"Grade\", y=\"Deter Year GDP\", hue=\"Games Year\",legend=False,data=top_countries)\n",
    "ax = p.axes[0, 0]\n",
    "ax.legend()\n",
    "leg = ax.get_legend()\n",
    "L_labels = leg.get_texts()\n",
    "# assuming you computed r_squared which is the coefficient of determination somewhere else\n",
    "label_line_1 = r'$2008 - R^2:{0:.2f}$'.format(r_squared)\n",
    "label_line_2 = r'$2012 - R^2:{0:.2f}$'.format(r_squared2) \n",
    "label_line_3 = r'$2016 - R^2:{0:.2f}$'.format(r_squared3) \n",
    "\n",
    "L_labels[0].set_text(label_line_1)\n",
    "L_labels[1].set_text(label_line_2)\n",
    "L_labels[2].set_text(label_line_3)\n",
    "def label_point(x, y, val, ax):\n",
    "    a = pd.concat({'x': x, 'y': y, 'val': val}, axis=1)\n",
    "    for i, point in a.iterrows():\n",
    "        if point['y'] > 5000000000000 or point['x'] >300:\n",
    "            ax.text(point['x']+.02, point['y'], str(point['val']))\n",
    "        \n",
    "label_point(top_countries['Grade'], top_countries['Deter Year GDP'], top_countries['Country'], plt.gca())  \n",
    "plt.suptitle('Connection of GDP and Athletes\\' Grade in Nearest 3 Olympic\\'s Year', size=15, y=1.05);      \n",
    "\n"
   ]
  },
  {
   "cell_type": "code",
   "execution_count": null,
   "metadata": {},
   "outputs": [],
   "source": []
  },
  {
   "cell_type": "code",
   "execution_count": null,
   "metadata": {},
   "outputs": [],
   "source": []
  }
 ],
 "metadata": {
  "kernelspec": {
   "display_name": "Python 3",
   "language": "python",
   "name": "python3"
  },
  "language_info": {
   "codemirror_mode": {
    "name": "ipython",
    "version": 3
   },
   "file_extension": ".py",
   "mimetype": "text/x-python",
   "name": "python",
   "nbconvert_exporter": "python",
   "pygments_lexer": "ipython3",
   "version": "3.7.3"
  }
 },
 "nbformat": 4,
 "nbformat_minor": 2
}
