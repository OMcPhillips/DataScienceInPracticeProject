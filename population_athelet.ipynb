{
 "cells": [
  {
   "cell_type": "code",
   "execution_count": 1,
   "metadata": {},
   "outputs": [],
   "source": [
    "import networkx as nx\n",
    "import numpy as np\n",
    "import pandas as pd\n",
    "import matplotlib.pyplot as plt\n",
    "%matplotlib inline"
   ]
  },
  {
   "cell_type": "code",
   "execution_count": 2,
   "metadata": {},
   "outputs": [
    {
     "data": {
      "text/plain": [
       "(271116, 15)"
      ]
     },
     "execution_count": 2,
     "metadata": {},
     "output_type": "execute_result"
    }
   ],
   "source": [
    "athletes = pd.read_csv('athlete_events.csv')\n",
    "athletes.shape"
   ]
  },
  {
   "cell_type": "code",
   "execution_count": 29,
   "metadata": {},
   "outputs": [
    {
     "data": {
      "text/plain": [
       "(217, 62)"
      ]
     },
     "execution_count": 29,
     "metadata": {},
     "output_type": "execute_result"
    }
   ],
   "source": [
    "Population = pd.read_csv('WorldPopulation.csv')\n",
    "Population.shape"
   ]
  },
  {
   "cell_type": "code",
   "execution_count": 30,
   "metadata": {},
   "outputs": [],
   "source": [
    "Population.drop(['Indicator Name', 'Indicator Code', 'Unnamed: 61'], axis = 1, inplace=True)"
   ]
  },
  {
   "cell_type": "code",
   "execution_count": 31,
   "metadata": {},
   "outputs": [
    {
     "data": {
      "text/html": [
       "<div>\n",
       "<style scoped>\n",
       "    .dataframe tbody tr th:only-of-type {\n",
       "        vertical-align: middle;\n",
       "    }\n",
       "\n",
       "    .dataframe tbody tr th {\n",
       "        vertical-align: top;\n",
       "    }\n",
       "\n",
       "    .dataframe thead th {\n",
       "        text-align: right;\n",
       "    }\n",
       "</style>\n",
       "<table border=\"1\" class=\"dataframe\">\n",
       "  <thead>\n",
       "    <tr style=\"text-align: right;\">\n",
       "      <th></th>\n",
       "      <th>Country</th>\n",
       "      <th>Country Code</th>\n",
       "      <th>1960</th>\n",
       "      <th>1961</th>\n",
       "      <th>1962</th>\n",
       "      <th>1963</th>\n",
       "      <th>1964</th>\n",
       "      <th>1965</th>\n",
       "      <th>1966</th>\n",
       "      <th>1967</th>\n",
       "      <th>...</th>\n",
       "      <th>2007</th>\n",
       "      <th>2008</th>\n",
       "      <th>2009</th>\n",
       "      <th>2010</th>\n",
       "      <th>2011</th>\n",
       "      <th>2012</th>\n",
       "      <th>2013</th>\n",
       "      <th>2014</th>\n",
       "      <th>2015</th>\n",
       "      <th>2016</th>\n",
       "    </tr>\n",
       "  </thead>\n",
       "  <tbody>\n",
       "    <tr>\n",
       "      <td>214</td>\n",
       "      <td>South Africa</td>\n",
       "      <td>ZAF</td>\n",
       "      <td>17396367.0</td>\n",
       "      <td>17850045.0</td>\n",
       "      <td>18322335.0</td>\n",
       "      <td>18809939.0</td>\n",
       "      <td>19308166.0</td>\n",
       "      <td>19813947.0</td>\n",
       "      <td>20325230.0</td>\n",
       "      <td>20843785.0</td>\n",
       "      <td>...</td>\n",
       "      <td>4.888384e+07</td>\n",
       "      <td>4.955757e+07</td>\n",
       "      <td>5.025581e+07</td>\n",
       "      <td>5.097943e+07</td>\n",
       "      <td>5.172935e+07</td>\n",
       "      <td>5.250652e+07</td>\n",
       "      <td>5.331196e+07</td>\n",
       "      <td>5.414673e+07</td>\n",
       "      <td>5.501198e+07</td>\n",
       "      <td>55908865</td>\n",
       "    </tr>\n",
       "    <tr>\n",
       "      <td>171</td>\n",
       "      <td>Solomon Islands</td>\n",
       "      <td>SLB</td>\n",
       "      <td>117866.0</td>\n",
       "      <td>121396.0</td>\n",
       "      <td>125064.0</td>\n",
       "      <td>128866.0</td>\n",
       "      <td>132782.0</td>\n",
       "      <td>136847.0</td>\n",
       "      <td>141026.0</td>\n",
       "      <td>145351.0</td>\n",
       "      <td>...</td>\n",
       "      <td>4.929400e+05</td>\n",
       "      <td>5.044770e+05</td>\n",
       "      <td>5.160790e+05</td>\n",
       "      <td>5.277900e+05</td>\n",
       "      <td>5.396140e+05</td>\n",
       "      <td>5.515310e+05</td>\n",
       "      <td>5.635130e+05</td>\n",
       "      <td>5.755040e+05</td>\n",
       "      <td>5.874820e+05</td>\n",
       "      <td>599419</td>\n",
       "    </tr>\n",
       "    <tr>\n",
       "      <td>119</td>\n",
       "      <td>St. Martin (French part)</td>\n",
       "      <td>MAF</td>\n",
       "      <td>4279.0</td>\n",
       "      <td>4453.0</td>\n",
       "      <td>4566.0</td>\n",
       "      <td>4656.0</td>\n",
       "      <td>4748.0</td>\n",
       "      <td>4841.0</td>\n",
       "      <td>4936.0</td>\n",
       "      <td>5033.0</td>\n",
       "      <td>...</td>\n",
       "      <td>2.890500e+04</td>\n",
       "      <td>2.937600e+04</td>\n",
       "      <td>2.982000e+04</td>\n",
       "      <td>3.023500e+04</td>\n",
       "      <td>3.061500e+04</td>\n",
       "      <td>3.095900e+04</td>\n",
       "      <td>3.126400e+04</td>\n",
       "      <td>3.153000e+04</td>\n",
       "      <td>3.175400e+04</td>\n",
       "      <td>31949</td>\n",
       "    </tr>\n",
       "  </tbody>\n",
       "</table>\n",
       "<p>3 rows × 59 columns</p>\n",
       "</div>"
      ],
      "text/plain": [
       "                      Country Country Code        1960        1961  \\\n",
       "214              South Africa          ZAF  17396367.0  17850045.0   \n",
       "171           Solomon Islands          SLB    117866.0    121396.0   \n",
       "119  St. Martin (French part)          MAF      4279.0      4453.0   \n",
       "\n",
       "           1962        1963        1964        1965        1966        1967  \\\n",
       "214  18322335.0  18809939.0  19308166.0  19813947.0  20325230.0  20843785.0   \n",
       "171    125064.0    128866.0    132782.0    136847.0    141026.0    145351.0   \n",
       "119      4566.0      4656.0      4748.0      4841.0      4936.0      5033.0   \n",
       "\n",
       "     ...          2007          2008          2009          2010  \\\n",
       "214  ...  4.888384e+07  4.955757e+07  5.025581e+07  5.097943e+07   \n",
       "171  ...  4.929400e+05  5.044770e+05  5.160790e+05  5.277900e+05   \n",
       "119  ...  2.890500e+04  2.937600e+04  2.982000e+04  3.023500e+04   \n",
       "\n",
       "             2011          2012          2013          2014          2015  \\\n",
       "214  5.172935e+07  5.250652e+07  5.331196e+07  5.414673e+07  5.501198e+07   \n",
       "171  5.396140e+05  5.515310e+05  5.635130e+05  5.755040e+05  5.874820e+05   \n",
       "119  3.061500e+04  3.095900e+04  3.126400e+04  3.153000e+04  3.175400e+04   \n",
       "\n",
       "         2016  \n",
       "214  55908865  \n",
       "171    599419  \n",
       "119     31949  \n",
       "\n",
       "[3 rows x 59 columns]"
      ]
     },
     "execution_count": 31,
     "metadata": {},
     "output_type": "execute_result"
    }
   ],
   "source": [
    "Population.sample(3)"
   ]
  },
  {
   "cell_type": "code",
   "execution_count": 32,
   "metadata": {},
   "outputs": [
    {
     "data": {
      "text/html": [
       "<div>\n",
       "<style scoped>\n",
       "    .dataframe tbody tr th:only-of-type {\n",
       "        vertical-align: middle;\n",
       "    }\n",
       "\n",
       "    .dataframe tbody tr th {\n",
       "        vertical-align: top;\n",
       "    }\n",
       "\n",
       "    .dataframe thead th {\n",
       "        text-align: right;\n",
       "    }\n",
       "</style>\n",
       "<table border=\"1\" class=\"dataframe\">\n",
       "  <thead>\n",
       "    <tr style=\"text-align: right;\">\n",
       "      <th></th>\n",
       "      <th>ID</th>\n",
       "      <th>Name</th>\n",
       "      <th>Sex</th>\n",
       "      <th>Age</th>\n",
       "      <th>Height</th>\n",
       "      <th>Weight</th>\n",
       "      <th>Team</th>\n",
       "      <th>NOC</th>\n",
       "      <th>Games</th>\n",
       "      <th>Year</th>\n",
       "      <th>Season</th>\n",
       "      <th>City</th>\n",
       "      <th>Sport</th>\n",
       "      <th>Event</th>\n",
       "      <th>Medal</th>\n",
       "    </tr>\n",
       "  </thead>\n",
       "  <tbody>\n",
       "    <tr>\n",
       "      <td>137481</td>\n",
       "      <td>69113</td>\n",
       "      <td>Jean Georges Levavasseur</td>\n",
       "      <td>M</td>\n",
       "      <td>24.0</td>\n",
       "      <td>NaN</td>\n",
       "      <td>NaN</td>\n",
       "      <td>France</td>\n",
       "      <td>FRA</td>\n",
       "      <td>1948 Summer</td>\n",
       "      <td>1948</td>\n",
       "      <td>Summer</td>\n",
       "      <td>London</td>\n",
       "      <td>Fencing</td>\n",
       "      <td>Fencing Men's Sabre, Team</td>\n",
       "      <td>NaN</td>\n",
       "    </tr>\n",
       "    <tr>\n",
       "      <td>27103</td>\n",
       "      <td>14098</td>\n",
       "      <td>Thierry Bourdin</td>\n",
       "      <td>M</td>\n",
       "      <td>21.0</td>\n",
       "      <td>160.0</td>\n",
       "      <td>57.0</td>\n",
       "      <td>France</td>\n",
       "      <td>FRA</td>\n",
       "      <td>1984 Summer</td>\n",
       "      <td>1984</td>\n",
       "      <td>Summer</td>\n",
       "      <td>Los Angeles</td>\n",
       "      <td>Wrestling</td>\n",
       "      <td>Wrestling Men's Flyweight, Freestyle</td>\n",
       "      <td>NaN</td>\n",
       "    </tr>\n",
       "    <tr>\n",
       "      <td>179271</td>\n",
       "      <td>90077</td>\n",
       "      <td>Julien Ouedraogo</td>\n",
       "      <td>M</td>\n",
       "      <td>26.0</td>\n",
       "      <td>175.0</td>\n",
       "      <td>73.0</td>\n",
       "      <td>Burkina Faso</td>\n",
       "      <td>BUR</td>\n",
       "      <td>2008 Summer</td>\n",
       "      <td>2008</td>\n",
       "      <td>Summer</td>\n",
       "      <td>Beijing</td>\n",
       "      <td>Fencing</td>\n",
       "      <td>Fencing Men's Sabre, Individual</td>\n",
       "      <td>NaN</td>\n",
       "    </tr>\n",
       "  </tbody>\n",
       "</table>\n",
       "</div>"
      ],
      "text/plain": [
       "           ID                      Name Sex   Age  Height  Weight  \\\n",
       "137481  69113  Jean Georges Levavasseur   M  24.0     NaN     NaN   \n",
       "27103   14098           Thierry Bourdin   M  21.0   160.0    57.0   \n",
       "179271  90077          Julien Ouedraogo   M  26.0   175.0    73.0   \n",
       "\n",
       "                Team  NOC        Games  Year  Season         City      Sport  \\\n",
       "137481        France  FRA  1948 Summer  1948  Summer       London    Fencing   \n",
       "27103         France  FRA  1984 Summer  1984  Summer  Los Angeles  Wrestling   \n",
       "179271  Burkina Faso  BUR  2008 Summer  2008  Summer      Beijing    Fencing   \n",
       "\n",
       "                                       Event Medal  \n",
       "137481             Fencing Men's Sabre, Team   NaN  \n",
       "27103   Wrestling Men's Flyweight, Freestyle   NaN  \n",
       "179271       Fencing Men's Sabre, Individual   NaN  "
      ]
     },
     "execution_count": 32,
     "metadata": {},
     "output_type": "execute_result"
    }
   ],
   "source": [
    "athletes.sample(3)"
   ]
  },
  {
   "cell_type": "code",
   "execution_count": 33,
   "metadata": {},
   "outputs": [
    {
     "data": {
      "text/plain": [
       "(13602, 15)"
      ]
     },
     "execution_count": 33,
     "metadata": {},
     "output_type": "execute_result"
    }
   ],
   "source": [
    "city = athletes['City'] == 'Beijing'\n",
    "athletes[city].head(3)\n",
    "athletes[city].shape"
   ]
  },
  {
   "cell_type": "code",
   "execution_count": 34,
   "metadata": {},
   "outputs": [],
   "source": [
    "Population = pd.melt(Population, id_vars = ['Country', 'Country Code'], var_name = 'Year', value_name = 'Population' )"
   ]
  },
  {
   "cell_type": "code",
   "execution_count": 35,
   "metadata": {},
   "outputs": [],
   "source": [
    "Population['Year'] = pd.to_numeric(Population['Year'])"
   ]
  },
  {
   "cell_type": "code",
   "execution_count": 37,
   "metadata": {},
   "outputs": [
    {
     "data": {
      "text/html": [
       "<div>\n",
       "<style scoped>\n",
       "    .dataframe tbody tr th:only-of-type {\n",
       "        vertical-align: middle;\n",
       "    }\n",
       "\n",
       "    .dataframe tbody tr th {\n",
       "        vertical-align: top;\n",
       "    }\n",
       "\n",
       "    .dataframe thead th {\n",
       "        text-align: right;\n",
       "    }\n",
       "</style>\n",
       "<table border=\"1\" class=\"dataframe\">\n",
       "  <thead>\n",
       "    <tr style=\"text-align: right;\">\n",
       "      <th></th>\n",
       "      <th>Country</th>\n",
       "      <th>Country Code</th>\n",
       "      <th>Year</th>\n",
       "      <th>Population</th>\n",
       "    </tr>\n",
       "  </thead>\n",
       "  <tbody>\n",
       "    <tr>\n",
       "      <td>0</td>\n",
       "      <td>Aruba</td>\n",
       "      <td>ABW</td>\n",
       "      <td>1960</td>\n",
       "      <td>54211.0</td>\n",
       "    </tr>\n",
       "    <tr>\n",
       "      <td>1</td>\n",
       "      <td>Afghanistan</td>\n",
       "      <td>AFG</td>\n",
       "      <td>1960</td>\n",
       "      <td>8996351.0</td>\n",
       "    </tr>\n",
       "    <tr>\n",
       "      <td>2</td>\n",
       "      <td>Angola</td>\n",
       "      <td>AGO</td>\n",
       "      <td>1960</td>\n",
       "      <td>5643182.0</td>\n",
       "    </tr>\n",
       "  </tbody>\n",
       "</table>\n",
       "</div>"
      ],
      "text/plain": [
       "       Country Country Code  Year  Population\n",
       "0        Aruba          ABW  1960     54211.0\n",
       "1  Afghanistan          AFG  1960   8996351.0\n",
       "2       Angola          AGO  1960   5643182.0"
      ]
     },
     "execution_count": 37,
     "metadata": {},
     "output_type": "execute_result"
    }
   ],
   "source": [
    "Population.head(3)"
   ]
  },
  {
   "cell_type": "code",
   "execution_count": 8,
   "metadata": {},
   "outputs": [],
   "source": [
    "#a = athletes.set_index('NOC').join(population_2008.set_index('Country Code'), how='inner')"
   ]
  },
  {
   "cell_type": "code",
   "execution_count": 38,
   "metadata": {},
   "outputs": [],
   "source": [
    "Population = pd.merge(Population, athletes, left_on = ['Country Code', 'Year'], right_on = ['NOC', 'Year'])"
   ]
  },
  {
   "cell_type": "code",
   "execution_count": 39,
   "metadata": {},
   "outputs": [
    {
     "data": {
      "text/plain": [
       "(151931, 18)"
      ]
     },
     "execution_count": 39,
     "metadata": {},
     "output_type": "execute_result"
    }
   ],
   "source": [
    "Population.shape"
   ]
  },
  {
   "cell_type": "code",
   "execution_count": 40,
   "metadata": {},
   "outputs": [
    {
     "data": {
      "text/html": [
       "<div>\n",
       "<style scoped>\n",
       "    .dataframe tbody tr th:only-of-type {\n",
       "        vertical-align: middle;\n",
       "    }\n",
       "\n",
       "    .dataframe tbody tr th {\n",
       "        vertical-align: top;\n",
       "    }\n",
       "\n",
       "    .dataframe thead th {\n",
       "        text-align: right;\n",
       "    }\n",
       "</style>\n",
       "<table border=\"1\" class=\"dataframe\">\n",
       "  <thead>\n",
       "    <tr style=\"text-align: right;\">\n",
       "      <th></th>\n",
       "      <th>Country</th>\n",
       "      <th>Country Code</th>\n",
       "      <th>Year</th>\n",
       "      <th>Population</th>\n",
       "      <th>ID</th>\n",
       "      <th>Name</th>\n",
       "      <th>Sex</th>\n",
       "      <th>Age</th>\n",
       "      <th>Height</th>\n",
       "      <th>Weight</th>\n",
       "      <th>Team</th>\n",
       "      <th>NOC</th>\n",
       "      <th>Games</th>\n",
       "      <th>Season</th>\n",
       "      <th>City</th>\n",
       "      <th>Sport</th>\n",
       "      <th>Event</th>\n",
       "      <th>Medal</th>\n",
       "    </tr>\n",
       "  </thead>\n",
       "  <tbody>\n",
       "    <tr>\n",
       "      <td>0</td>\n",
       "      <td>Afghanistan</td>\n",
       "      <td>AFG</td>\n",
       "      <td>1960</td>\n",
       "      <td>8996351.0</td>\n",
       "      <td>29626</td>\n",
       "      <td>Sultan Mohammad Dost</td>\n",
       "      <td>M</td>\n",
       "      <td>28.0</td>\n",
       "      <td>168.0</td>\n",
       "      <td>73.0</td>\n",
       "      <td>Afghanistan</td>\n",
       "      <td>AFG</td>\n",
       "      <td>1960 Summer</td>\n",
       "      <td>Summer</td>\n",
       "      <td>Roma</td>\n",
       "      <td>Wrestling</td>\n",
       "      <td>Wrestling Men's Welterweight, Freestyle</td>\n",
       "      <td>NaN</td>\n",
       "    </tr>\n",
       "    <tr>\n",
       "      <td>1</td>\n",
       "      <td>Afghanistan</td>\n",
       "      <td>AFG</td>\n",
       "      <td>1960</td>\n",
       "      <td>8996351.0</td>\n",
       "      <td>39922</td>\n",
       "      <td>Abdul Ghafar Ghafoori</td>\n",
       "      <td>M</td>\n",
       "      <td>22.0</td>\n",
       "      <td>172.0</td>\n",
       "      <td>70.0</td>\n",
       "      <td>Afghanistan</td>\n",
       "      <td>AFG</td>\n",
       "      <td>1960 Summer</td>\n",
       "      <td>Summer</td>\n",
       "      <td>Roma</td>\n",
       "      <td>Athletics</td>\n",
       "      <td>Athletics Men's 4 x 100 metres Relay</td>\n",
       "      <td>NaN</td>\n",
       "    </tr>\n",
       "    <tr>\n",
       "      <td>2</td>\n",
       "      <td>Afghanistan</td>\n",
       "      <td>AFG</td>\n",
       "      <td>1960</td>\n",
       "      <td>8996351.0</td>\n",
       "      <td>43901</td>\n",
       "      <td>Ghulam Mohiddin Gunga</td>\n",
       "      <td>M</td>\n",
       "      <td>26.0</td>\n",
       "      <td>168.0</td>\n",
       "      <td>81.0</td>\n",
       "      <td>Afghanistan</td>\n",
       "      <td>AFG</td>\n",
       "      <td>1960 Summer</td>\n",
       "      <td>Summer</td>\n",
       "      <td>Roma</td>\n",
       "      <td>Wrestling</td>\n",
       "      <td>Wrestling Men's Light-Heavyweight, Freestyle</td>\n",
       "      <td>NaN</td>\n",
       "    </tr>\n",
       "    <tr>\n",
       "      <td>3</td>\n",
       "      <td>Afghanistan</td>\n",
       "      <td>AFG</td>\n",
       "      <td>1960</td>\n",
       "      <td>8996351.0</td>\n",
       "      <td>58364</td>\n",
       "      <td>Mohammad Ibrahim Kederi</td>\n",
       "      <td>M</td>\n",
       "      <td>20.0</td>\n",
       "      <td>166.0</td>\n",
       "      <td>62.0</td>\n",
       "      <td>Afghanistan</td>\n",
       "      <td>AFG</td>\n",
       "      <td>1960 Summer</td>\n",
       "      <td>Summer</td>\n",
       "      <td>Roma</td>\n",
       "      <td>Wrestling</td>\n",
       "      <td>Wrestling Men's Featherweight, Freestyle</td>\n",
       "      <td>NaN</td>\n",
       "    </tr>\n",
       "  </tbody>\n",
       "</table>\n",
       "</div>"
      ],
      "text/plain": [
       "       Country Country Code  Year  Population     ID                     Name  \\\n",
       "0  Afghanistan          AFG  1960   8996351.0  29626     Sultan Mohammad Dost   \n",
       "1  Afghanistan          AFG  1960   8996351.0  39922    Abdul Ghafar Ghafoori   \n",
       "2  Afghanistan          AFG  1960   8996351.0  43901    Ghulam Mohiddin Gunga   \n",
       "3  Afghanistan          AFG  1960   8996351.0  58364  Mohammad Ibrahim Kederi   \n",
       "\n",
       "  Sex   Age  Height  Weight         Team  NOC        Games  Season  City  \\\n",
       "0   M  28.0   168.0    73.0  Afghanistan  AFG  1960 Summer  Summer  Roma   \n",
       "1   M  22.0   172.0    70.0  Afghanistan  AFG  1960 Summer  Summer  Roma   \n",
       "2   M  26.0   168.0    81.0  Afghanistan  AFG  1960 Summer  Summer  Roma   \n",
       "3   M  20.0   166.0    62.0  Afghanistan  AFG  1960 Summer  Summer  Roma   \n",
       "\n",
       "       Sport                                         Event Medal  \n",
       "0  Wrestling       Wrestling Men's Welterweight, Freestyle   NaN  \n",
       "1  Athletics          Athletics Men's 4 x 100 metres Relay   NaN  \n",
       "2  Wrestling  Wrestling Men's Light-Heavyweight, Freestyle   NaN  \n",
       "3  Wrestling      Wrestling Men's Featherweight, Freestyle   NaN  "
      ]
     },
     "execution_count": 40,
     "metadata": {},
     "output_type": "execute_result"
    }
   ],
   "source": [
    "Population.head(4)"
   ]
  },
  {
   "cell_type": "code",
   "execution_count": 41,
   "metadata": {},
   "outputs": [],
   "source": [
    "Population.to_csv('athletePopulation.csv', sep=',')"
   ]
  },
  {
   "cell_type": "code",
   "execution_count": null,
   "metadata": {},
   "outputs": [],
   "source": []
  }
 ],
 "metadata": {
  "kernelspec": {
   "display_name": "Python 3",
   "language": "python",
   "name": "python3"
  },
  "language_info": {
   "codemirror_mode": {
    "name": "ipython",
    "version": 3
   },
   "file_extension": ".py",
   "mimetype": "text/x-python",
   "name": "python",
   "nbconvert_exporter": "python",
   "pygments_lexer": "ipython3",
   "version": "3.7.4"
  }
 },
 "nbformat": 4,
 "nbformat_minor": 2
}
