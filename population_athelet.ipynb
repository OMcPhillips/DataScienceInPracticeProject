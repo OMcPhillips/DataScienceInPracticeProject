{
 "cells": [
  {
   "cell_type": "code",
   "execution_count": 120,
   "metadata": {},
   "outputs": [],
   "source": [
    "from scipy import stats\n",
    "import numpy as np\n",
    "import pandas as pd\n",
    "import matplotlib.pyplot as plt\n",
    "%matplotlib inline"
   ]
  },
  {
   "cell_type": "code",
   "execution_count": 121,
   "metadata": {},
   "outputs": [
    {
     "data": {
      "text/plain": [
       "(271116, 15)"
      ]
     },
     "execution_count": 121,
     "metadata": {},
     "output_type": "execute_result"
    }
   ],
   "source": [
    "athletes = pd.read_csv('athlete_events.csv')\n",
    "athletes.shape"
   ]
  },
  {
   "cell_type": "code",
   "execution_count": 122,
   "metadata": {},
   "outputs": [
    {
     "data": {
      "text/plain": [
       "(217, 62)"
      ]
     },
     "execution_count": 122,
     "metadata": {},
     "output_type": "execute_result"
    }
   ],
   "source": [
    "Population = pd.read_csv('WorldPopulation.csv')\n",
    "Population.shape"
   ]
  },
  {
   "cell_type": "code",
   "execution_count": 123,
   "metadata": {},
   "outputs": [],
   "source": [
    "Population.drop(['Indicator Name', 'Indicator Code', 'Unnamed: 61'], axis = 1, inplace=True)"
   ]
  },
  {
   "cell_type": "code",
   "execution_count": 124,
   "metadata": {},
   "outputs": [
    {
     "data": {
      "text/html": [
       "<div>\n",
       "<style scoped>\n",
       "    .dataframe tbody tr th:only-of-type {\n",
       "        vertical-align: middle;\n",
       "    }\n",
       "\n",
       "    .dataframe tbody tr th {\n",
       "        vertical-align: top;\n",
       "    }\n",
       "\n",
       "    .dataframe thead th {\n",
       "        text-align: right;\n",
       "    }\n",
       "</style>\n",
       "<table border=\"1\" class=\"dataframe\">\n",
       "  <thead>\n",
       "    <tr style=\"text-align: right;\">\n",
       "      <th></th>\n",
       "      <th>Country</th>\n",
       "      <th>Country Code</th>\n",
       "      <th>1960</th>\n",
       "      <th>1961</th>\n",
       "      <th>1962</th>\n",
       "      <th>1963</th>\n",
       "      <th>1964</th>\n",
       "      <th>1965</th>\n",
       "      <th>1966</th>\n",
       "      <th>1967</th>\n",
       "      <th>...</th>\n",
       "      <th>2007</th>\n",
       "      <th>2008</th>\n",
       "      <th>2009</th>\n",
       "      <th>2010</th>\n",
       "      <th>2011</th>\n",
       "      <th>2012</th>\n",
       "      <th>2013</th>\n",
       "      <th>2014</th>\n",
       "      <th>2015</th>\n",
       "      <th>2016</th>\n",
       "    </tr>\n",
       "  </thead>\n",
       "  <tbody>\n",
       "    <tr>\n",
       "      <th>121</th>\n",
       "      <td>Monaco</td>\n",
       "      <td>MCO</td>\n",
       "      <td>22452.0</td>\n",
       "      <td>22808.0</td>\n",
       "      <td>23039.0</td>\n",
       "      <td>23168.0</td>\n",
       "      <td>23236.0</td>\n",
       "      <td>23282.0</td>\n",
       "      <td>23305.0</td>\n",
       "      <td>23292.0</td>\n",
       "      <td>...</td>\n",
       "      <td>35111.0</td>\n",
       "      <td>35853.0</td>\n",
       "      <td>36534.0</td>\n",
       "      <td>37094.0</td>\n",
       "      <td>37497.0</td>\n",
       "      <td>37783.0</td>\n",
       "      <td>37971.0</td>\n",
       "      <td>38132.0</td>\n",
       "      <td>38307.0</td>\n",
       "      <td>38499</td>\n",
       "    </tr>\n",
       "    <tr>\n",
       "      <th>101</th>\n",
       "      <td>Kyrgyz Republic</td>\n",
       "      <td>KGZ</td>\n",
       "      <td>2172300.0</td>\n",
       "      <td>2255900.0</td>\n",
       "      <td>2333400.0</td>\n",
       "      <td>2413700.0</td>\n",
       "      <td>2495300.0</td>\n",
       "      <td>2573300.0</td>\n",
       "      <td>2655300.0</td>\n",
       "      <td>2736500.0</td>\n",
       "      <td>...</td>\n",
       "      <td>5268400.0</td>\n",
       "      <td>5318700.0</td>\n",
       "      <td>5383300.0</td>\n",
       "      <td>5447900.0</td>\n",
       "      <td>5514600.0</td>\n",
       "      <td>5607200.0</td>\n",
       "      <td>5719600.0</td>\n",
       "      <td>5835500.0</td>\n",
       "      <td>5956900.0</td>\n",
       "      <td>6082700</td>\n",
       "    </tr>\n",
       "    <tr>\n",
       "      <th>151</th>\n",
       "      <td>Panama</td>\n",
       "      <td>PAN</td>\n",
       "      <td>1132921.0</td>\n",
       "      <td>1167035.0</td>\n",
       "      <td>1202373.0</td>\n",
       "      <td>1238823.0</td>\n",
       "      <td>1276276.0</td>\n",
       "      <td>1314626.0</td>\n",
       "      <td>1353804.0</td>\n",
       "      <td>1393799.0</td>\n",
       "      <td>...</td>\n",
       "      <td>3453807.0</td>\n",
       "      <td>3516268.0</td>\n",
       "      <td>3579385.0</td>\n",
       "      <td>3643222.0</td>\n",
       "      <td>3707782.0</td>\n",
       "      <td>3772938.0</td>\n",
       "      <td>3838462.0</td>\n",
       "      <td>3903986.0</td>\n",
       "      <td>3969249.0</td>\n",
       "      <td>4034119</td>\n",
       "    </tr>\n",
       "  </tbody>\n",
       "</table>\n",
       "<p>3 rows × 59 columns</p>\n",
       "</div>"
      ],
      "text/plain": [
       "             Country Country Code       1960       1961       1962       1963  \\\n",
       "121           Monaco          MCO    22452.0    22808.0    23039.0    23168.0   \n",
       "101  Kyrgyz Republic          KGZ  2172300.0  2255900.0  2333400.0  2413700.0   \n",
       "151           Panama          PAN  1132921.0  1167035.0  1202373.0  1238823.0   \n",
       "\n",
       "          1964       1965       1966       1967  ...       2007       2008  \\\n",
       "121    23236.0    23282.0    23305.0    23292.0  ...    35111.0    35853.0   \n",
       "101  2495300.0  2573300.0  2655300.0  2736500.0  ...  5268400.0  5318700.0   \n",
       "151  1276276.0  1314626.0  1353804.0  1393799.0  ...  3453807.0  3516268.0   \n",
       "\n",
       "          2009       2010       2011       2012       2013       2014  \\\n",
       "121    36534.0    37094.0    37497.0    37783.0    37971.0    38132.0   \n",
       "101  5383300.0  5447900.0  5514600.0  5607200.0  5719600.0  5835500.0   \n",
       "151  3579385.0  3643222.0  3707782.0  3772938.0  3838462.0  3903986.0   \n",
       "\n",
       "          2015     2016  \n",
       "121    38307.0    38499  \n",
       "101  5956900.0  6082700  \n",
       "151  3969249.0  4034119  \n",
       "\n",
       "[3 rows x 59 columns]"
      ]
     },
     "execution_count": 124,
     "metadata": {},
     "output_type": "execute_result"
    }
   ],
   "source": [
    "Population.sample(3)"
   ]
  },
  {
   "cell_type": "code",
   "execution_count": 125,
   "metadata": {},
   "outputs": [
    {
     "data": {
      "text/html": [
       "<div>\n",
       "<style scoped>\n",
       "    .dataframe tbody tr th:only-of-type {\n",
       "        vertical-align: middle;\n",
       "    }\n",
       "\n",
       "    .dataframe tbody tr th {\n",
       "        vertical-align: top;\n",
       "    }\n",
       "\n",
       "    .dataframe thead th {\n",
       "        text-align: right;\n",
       "    }\n",
       "</style>\n",
       "<table border=\"1\" class=\"dataframe\">\n",
       "  <thead>\n",
       "    <tr style=\"text-align: right;\">\n",
       "      <th></th>\n",
       "      <th>ID</th>\n",
       "      <th>Name</th>\n",
       "      <th>Sex</th>\n",
       "      <th>Age</th>\n",
       "      <th>Height</th>\n",
       "      <th>Weight</th>\n",
       "      <th>Team</th>\n",
       "      <th>NOC</th>\n",
       "      <th>Games</th>\n",
       "      <th>Year</th>\n",
       "      <th>Season</th>\n",
       "      <th>City</th>\n",
       "      <th>Sport</th>\n",
       "      <th>Event</th>\n",
       "      <th>Medal</th>\n",
       "    </tr>\n",
       "  </thead>\n",
       "  <tbody>\n",
       "    <tr>\n",
       "      <th>191783</th>\n",
       "      <td>96289</td>\n",
       "      <td>Adrin Portela</td>\n",
       "      <td>M</td>\n",
       "      <td>30.0</td>\n",
       "      <td>185.0</td>\n",
       "      <td>95.0</td>\n",
       "      <td>Argentina</td>\n",
       "      <td>ARG</td>\n",
       "      <td>2016 Summer</td>\n",
       "      <td>2016</td>\n",
       "      <td>Summer</td>\n",
       "      <td>Rio de Janeiro</td>\n",
       "      <td>Handball</td>\n",
       "      <td>Handball Men's Handball</td>\n",
       "      <td>NaN</td>\n",
       "    </tr>\n",
       "    <tr>\n",
       "      <th>229149</th>\n",
       "      <td>115053</td>\n",
       "      <td>Elfriede Steurer (-Reichert)</td>\n",
       "      <td>F</td>\n",
       "      <td>27.0</td>\n",
       "      <td>NaN</td>\n",
       "      <td>NaN</td>\n",
       "      <td>Austria</td>\n",
       "      <td>AUT</td>\n",
       "      <td>1952 Summer</td>\n",
       "      <td>1952</td>\n",
       "      <td>Summer</td>\n",
       "      <td>Helsinki</td>\n",
       "      <td>Athletics</td>\n",
       "      <td>Athletics Women's 80 metres Hurdles</td>\n",
       "      <td>NaN</td>\n",
       "    </tr>\n",
       "    <tr>\n",
       "      <th>68540</th>\n",
       "      <td>34991</td>\n",
       "      <td>Jos Pinto Ferreira</td>\n",
       "      <td>M</td>\n",
       "      <td>29.0</td>\n",
       "      <td>181.0</td>\n",
       "      <td>79.0</td>\n",
       "      <td>Portugal</td>\n",
       "      <td>POR</td>\n",
       "      <td>1952 Summer</td>\n",
       "      <td>1952</td>\n",
       "      <td>Summer</td>\n",
       "      <td>Helsinki</td>\n",
       "      <td>Fencing</td>\n",
       "      <td>Fencing Men's Sabre, Team</td>\n",
       "      <td>NaN</td>\n",
       "    </tr>\n",
       "  </tbody>\n",
       "</table>\n",
       "</div>"
      ],
      "text/plain": [
       "            ID                          Name Sex   Age  Height  Weight  \\\n",
       "191783   96289                 Adrin Portela   M  30.0   185.0    95.0   \n",
       "229149  115053  Elfriede Steurer (-Reichert)   F  27.0     NaN     NaN   \n",
       "68540    34991            Jos Pinto Ferreira   M  29.0   181.0    79.0   \n",
       "\n",
       "             Team  NOC        Games  Year  Season            City      Sport  \\\n",
       "191783  Argentina  ARG  2016 Summer  2016  Summer  Rio de Janeiro   Handball   \n",
       "229149    Austria  AUT  1952 Summer  1952  Summer        Helsinki  Athletics   \n",
       "68540    Portugal  POR  1952 Summer  1952  Summer        Helsinki    Fencing   \n",
       "\n",
       "                                      Event Medal  \n",
       "191783              Handball Men's Handball   NaN  \n",
       "229149  Athletics Women's 80 metres Hurdles   NaN  \n",
       "68540             Fencing Men's Sabre, Team   NaN  "
      ]
     },
     "execution_count": 125,
     "metadata": {},
     "output_type": "execute_result"
    }
   ],
   "source": [
    "athletes.sample(3)"
   ]
  },
  {
   "cell_type": "code",
   "execution_count": 126,
   "metadata": {},
   "outputs": [
    {
     "data": {
      "text/plain": [
       "(13602, 15)"
      ]
     },
     "execution_count": 126,
     "metadata": {},
     "output_type": "execute_result"
    }
   ],
   "source": [
    "city = athletes['City'] == 'Beijing'\n",
    "athletes[city].head(3)\n",
    "athletes[city].shape\n"
   ]
  },
  {
   "cell_type": "code",
   "execution_count": 127,
   "metadata": {},
   "outputs": [
    {
     "data": {
      "text/html": [
       "<div>\n",
       "<style scoped>\n",
       "    .dataframe tbody tr th:only-of-type {\n",
       "        vertical-align: middle;\n",
       "    }\n",
       "\n",
       "    .dataframe tbody tr th {\n",
       "        vertical-align: top;\n",
       "    }\n",
       "\n",
       "    .dataframe thead th {\n",
       "        text-align: right;\n",
       "    }\n",
       "</style>\n",
       "<table border=\"1\" class=\"dataframe\">\n",
       "  <thead>\n",
       "    <tr style=\"text-align: right;\">\n",
       "      <th></th>\n",
       "      <th>Country</th>\n",
       "      <th>Country Code</th>\n",
       "      <th>Year</th>\n",
       "      <th>Population</th>\n",
       "    </tr>\n",
       "  </thead>\n",
       "  <tbody>\n",
       "    <tr>\n",
       "      <th>0</th>\n",
       "      <td>Aruba</td>\n",
       "      <td>ABW</td>\n",
       "      <td>1960</td>\n",
       "      <td>54211.0</td>\n",
       "    </tr>\n",
       "    <tr>\n",
       "      <th>1</th>\n",
       "      <td>Afghanistan</td>\n",
       "      <td>AFG</td>\n",
       "      <td>1960</td>\n",
       "      <td>8996351.0</td>\n",
       "    </tr>\n",
       "    <tr>\n",
       "      <th>2</th>\n",
       "      <td>Angola</td>\n",
       "      <td>AGO</td>\n",
       "      <td>1960</td>\n",
       "      <td>5643182.0</td>\n",
       "    </tr>\n",
       "    <tr>\n",
       "      <th>3</th>\n",
       "      <td>Albania</td>\n",
       "      <td>ALB</td>\n",
       "      <td>1960</td>\n",
       "      <td>1608800.0</td>\n",
       "    </tr>\n",
       "    <tr>\n",
       "      <th>4</th>\n",
       "      <td>Andorra</td>\n",
       "      <td>AND</td>\n",
       "      <td>1960</td>\n",
       "      <td>13411.0</td>\n",
       "    </tr>\n",
       "  </tbody>\n",
       "</table>\n",
       "</div>"
      ],
      "text/plain": [
       "       Country Country Code  Year  Population\n",
       "0        Aruba          ABW  1960     54211.0\n",
       "1  Afghanistan          AFG  1960   8996351.0\n",
       "2       Angola          AGO  1960   5643182.0\n",
       "3      Albania          ALB  1960   1608800.0\n",
       "4      Andorra          AND  1960     13411.0"
      ]
     },
     "execution_count": 127,
     "metadata": {},
     "output_type": "execute_result"
    }
   ],
   "source": [
    "Population = pd.melt(Population, id_vars = ['Country', 'Country Code'], var_name = 'Year', value_name = 'Population' )\n",
    "Population.head()"
   ]
  },
  {
   "cell_type": "code",
   "execution_count": 128,
   "metadata": {},
   "outputs": [],
   "source": [
    "Population['Year'] = pd.to_numeric(Population['Year'])\n"
   ]
  },
  {
   "cell_type": "code",
   "execution_count": 129,
   "metadata": {},
   "outputs": [
    {
     "data": {
      "text/html": [
       "<div>\n",
       "<style scoped>\n",
       "    .dataframe tbody tr th:only-of-type {\n",
       "        vertical-align: middle;\n",
       "    }\n",
       "\n",
       "    .dataframe tbody tr th {\n",
       "        vertical-align: top;\n",
       "    }\n",
       "\n",
       "    .dataframe thead th {\n",
       "        text-align: right;\n",
       "    }\n",
       "</style>\n",
       "<table border=\"1\" class=\"dataframe\">\n",
       "  <thead>\n",
       "    <tr style=\"text-align: right;\">\n",
       "      <th></th>\n",
       "      <th>Country</th>\n",
       "      <th>Country Code</th>\n",
       "      <th>Year</th>\n",
       "      <th>Population</th>\n",
       "    </tr>\n",
       "  </thead>\n",
       "  <tbody>\n",
       "    <tr>\n",
       "      <th>0</th>\n",
       "      <td>Aruba</td>\n",
       "      <td>ABW</td>\n",
       "      <td>1960</td>\n",
       "      <td>54211.0</td>\n",
       "    </tr>\n",
       "    <tr>\n",
       "      <th>1</th>\n",
       "      <td>Afghanistan</td>\n",
       "      <td>AFG</td>\n",
       "      <td>1960</td>\n",
       "      <td>8996351.0</td>\n",
       "    </tr>\n",
       "    <tr>\n",
       "      <th>2</th>\n",
       "      <td>Angola</td>\n",
       "      <td>AGO</td>\n",
       "      <td>1960</td>\n",
       "      <td>5643182.0</td>\n",
       "    </tr>\n",
       "  </tbody>\n",
       "</table>\n",
       "</div>"
      ],
      "text/plain": [
       "       Country Country Code  Year  Population\n",
       "0        Aruba          ABW  1960     54211.0\n",
       "1  Afghanistan          AFG  1960   8996351.0\n",
       "2       Angola          AGO  1960   5643182.0"
      ]
     },
     "execution_count": 129,
     "metadata": {},
     "output_type": "execute_result"
    }
   ],
   "source": [
    "Population.head(3)"
   ]
  },
  {
   "cell_type": "code",
   "execution_count": 130,
   "metadata": {},
   "outputs": [],
   "source": [
    "#a = athletes.set_index('NOC').join(population_2008.set_index('Country Code'), how='inner')"
   ]
  },
  {
   "cell_type": "code",
   "execution_count": 131,
   "metadata": {},
   "outputs": [],
   "source": [
    "Population = pd.merge(Population, athletes, left_on = ['Country Code', 'Year'], right_on = ['NOC', 'Year'])"
   ]
  },
  {
   "cell_type": "code",
   "execution_count": 132,
   "metadata": {},
   "outputs": [
    {
     "data": {
      "text/plain": [
       "(151931, 18)"
      ]
     },
     "execution_count": 132,
     "metadata": {},
     "output_type": "execute_result"
    }
   ],
   "source": [
    "Population.shape"
   ]
  },
  {
   "cell_type": "code",
   "execution_count": 133,
   "metadata": {},
   "outputs": [
    {
     "data": {
      "text/html": [
       "<div>\n",
       "<style scoped>\n",
       "    .dataframe tbody tr th:only-of-type {\n",
       "        vertical-align: middle;\n",
       "    }\n",
       "\n",
       "    .dataframe tbody tr th {\n",
       "        vertical-align: top;\n",
       "    }\n",
       "\n",
       "    .dataframe thead th {\n",
       "        text-align: right;\n",
       "    }\n",
       "</style>\n",
       "<table border=\"1\" class=\"dataframe\">\n",
       "  <thead>\n",
       "    <tr style=\"text-align: right;\">\n",
       "      <th></th>\n",
       "      <th>Country</th>\n",
       "      <th>Country Code</th>\n",
       "      <th>Year</th>\n",
       "      <th>Population</th>\n",
       "      <th>ID</th>\n",
       "      <th>Name</th>\n",
       "      <th>Sex</th>\n",
       "      <th>Age</th>\n",
       "      <th>Height</th>\n",
       "      <th>Weight</th>\n",
       "      <th>Team</th>\n",
       "      <th>NOC</th>\n",
       "      <th>Games</th>\n",
       "      <th>Season</th>\n",
       "      <th>City</th>\n",
       "      <th>Sport</th>\n",
       "      <th>Event</th>\n",
       "      <th>Medal</th>\n",
       "    </tr>\n",
       "  </thead>\n",
       "  <tbody>\n",
       "    <tr>\n",
       "      <th>0</th>\n",
       "      <td>Afghanistan</td>\n",
       "      <td>AFG</td>\n",
       "      <td>1960</td>\n",
       "      <td>8996351.0</td>\n",
       "      <td>29626</td>\n",
       "      <td>Sultan Mohammad Dost</td>\n",
       "      <td>M</td>\n",
       "      <td>28.0</td>\n",
       "      <td>168.0</td>\n",
       "      <td>73.0</td>\n",
       "      <td>Afghanistan</td>\n",
       "      <td>AFG</td>\n",
       "      <td>1960 Summer</td>\n",
       "      <td>Summer</td>\n",
       "      <td>Roma</td>\n",
       "      <td>Wrestling</td>\n",
       "      <td>Wrestling Men's Welterweight, Freestyle</td>\n",
       "      <td>NaN</td>\n",
       "    </tr>\n",
       "    <tr>\n",
       "      <th>1</th>\n",
       "      <td>Afghanistan</td>\n",
       "      <td>AFG</td>\n",
       "      <td>1960</td>\n",
       "      <td>8996351.0</td>\n",
       "      <td>39922</td>\n",
       "      <td>Abdul Ghafar Ghafoori</td>\n",
       "      <td>M</td>\n",
       "      <td>22.0</td>\n",
       "      <td>172.0</td>\n",
       "      <td>70.0</td>\n",
       "      <td>Afghanistan</td>\n",
       "      <td>AFG</td>\n",
       "      <td>1960 Summer</td>\n",
       "      <td>Summer</td>\n",
       "      <td>Roma</td>\n",
       "      <td>Athletics</td>\n",
       "      <td>Athletics Men's 4 x 100 metres Relay</td>\n",
       "      <td>NaN</td>\n",
       "    </tr>\n",
       "    <tr>\n",
       "      <th>2</th>\n",
       "      <td>Afghanistan</td>\n",
       "      <td>AFG</td>\n",
       "      <td>1960</td>\n",
       "      <td>8996351.0</td>\n",
       "      <td>43901</td>\n",
       "      <td>Ghulam Mohiddin Gunga</td>\n",
       "      <td>M</td>\n",
       "      <td>26.0</td>\n",
       "      <td>168.0</td>\n",
       "      <td>81.0</td>\n",
       "      <td>Afghanistan</td>\n",
       "      <td>AFG</td>\n",
       "      <td>1960 Summer</td>\n",
       "      <td>Summer</td>\n",
       "      <td>Roma</td>\n",
       "      <td>Wrestling</td>\n",
       "      <td>Wrestling Men's Light-Heavyweight, Freestyle</td>\n",
       "      <td>NaN</td>\n",
       "    </tr>\n",
       "    <tr>\n",
       "      <th>3</th>\n",
       "      <td>Afghanistan</td>\n",
       "      <td>AFG</td>\n",
       "      <td>1960</td>\n",
       "      <td>8996351.0</td>\n",
       "      <td>58364</td>\n",
       "      <td>Mohammad Ibrahim Kederi</td>\n",
       "      <td>M</td>\n",
       "      <td>20.0</td>\n",
       "      <td>166.0</td>\n",
       "      <td>62.0</td>\n",
       "      <td>Afghanistan</td>\n",
       "      <td>AFG</td>\n",
       "      <td>1960 Summer</td>\n",
       "      <td>Summer</td>\n",
       "      <td>Roma</td>\n",
       "      <td>Wrestling</td>\n",
       "      <td>Wrestling Men's Featherweight, Freestyle</td>\n",
       "      <td>NaN</td>\n",
       "    </tr>\n",
       "  </tbody>\n",
       "</table>\n",
       "</div>"
      ],
      "text/plain": [
       "       Country Country Code  Year  Population     ID                     Name  \\\n",
       "0  Afghanistan          AFG  1960   8996351.0  29626     Sultan Mohammad Dost   \n",
       "1  Afghanistan          AFG  1960   8996351.0  39922    Abdul Ghafar Ghafoori   \n",
       "2  Afghanistan          AFG  1960   8996351.0  43901    Ghulam Mohiddin Gunga   \n",
       "3  Afghanistan          AFG  1960   8996351.0  58364  Mohammad Ibrahim Kederi   \n",
       "\n",
       "  Sex   Age  Height  Weight         Team  NOC        Games  Season  City  \\\n",
       "0   M  28.0   168.0    73.0  Afghanistan  AFG  1960 Summer  Summer  Roma   \n",
       "1   M  22.0   172.0    70.0  Afghanistan  AFG  1960 Summer  Summer  Roma   \n",
       "2   M  26.0   168.0    81.0  Afghanistan  AFG  1960 Summer  Summer  Roma   \n",
       "3   M  20.0   166.0    62.0  Afghanistan  AFG  1960 Summer  Summer  Roma   \n",
       "\n",
       "       Sport                                         Event Medal  \n",
       "0  Wrestling       Wrestling Men's Welterweight, Freestyle   NaN  \n",
       "1  Athletics          Athletics Men's 4 x 100 metres Relay   NaN  \n",
       "2  Wrestling  Wrestling Men's Light-Heavyweight, Freestyle   NaN  \n",
       "3  Wrestling      Wrestling Men's Featherweight, Freestyle   NaN  "
      ]
     },
     "execution_count": 133,
     "metadata": {},
     "output_type": "execute_result"
    }
   ],
   "source": [
    "Population.head(4)"
   ]
  },
  {
   "cell_type": "code",
   "execution_count": 134,
   "metadata": {},
   "outputs": [],
   "source": [
    "Population = Population.drop( ['ID','NOC','Games'], axis=1)"
   ]
  },
  {
   "cell_type": "code",
   "execution_count": 135,
   "metadata": {},
   "outputs": [
    {
     "name": "stdout",
     "output_type": "stream",
     "text": [
      "Country              0\n",
      "Country Code         0\n",
      "Year                 0\n",
      "Population           0\n",
      "Name                 0\n",
      "Sex                  0\n",
      "Age                545\n",
      "Height            7426\n",
      "Weight            8098\n",
      "Team                 0\n",
      "Season               0\n",
      "City                 0\n",
      "Sport                0\n",
      "Event                0\n",
      "Medal           132298\n",
      "dtype: int64\n"
     ]
    }
   ],
   "source": [
    "print(Population.isnull().sum())"
   ]
  },
  {
   "cell_type": "code",
   "execution_count": 136,
   "metadata": {},
   "outputs": [],
   "source": [
    "Population = Population[Population['Age'].notna()]\n",
    "Population = Population[Population['Weight'].notna()]\n",
    "Population = Population[Population['Height'].notna()]\n",
    "Population['Medal'].fillna('DNW', inplace = True)"
   ]
  },
  {
   "cell_type": "code",
   "execution_count": 137,
   "metadata": {
    "scrolled": true
   },
   "outputs": [
    {
     "name": "stdout",
     "output_type": "stream",
     "text": [
      "Country         0\n",
      "Country Code    0\n",
      "Year            0\n",
      "Population      0\n",
      "Name            0\n",
      "Sex             0\n",
      "Age             0\n",
      "Height          0\n",
      "Weight          0\n",
      "Team            0\n",
      "Season          0\n",
      "City            0\n",
      "Sport           0\n",
      "Event           0\n",
      "Medal           0\n",
      "dtype: int64\n"
     ]
    }
   ],
   "source": [
    "print(Population.isnull().sum())"
   ]
  },
  {
   "cell_type": "code",
   "execution_count": 138,
   "metadata": {},
   "outputs": [
    {
     "data": {
      "text/plain": [
       "(143142, 15)"
      ]
     },
     "execution_count": 138,
     "metadata": {},
     "output_type": "execute_result"
    }
   ],
   "source": [
    "Population.shape"
   ]
  },
  {
   "cell_type": "code",
   "execution_count": 139,
   "metadata": {},
   "outputs": [],
   "source": [
    "#if athlete won medals then exceed 1, if not tehn exceeds 0\n",
    "Population['Medal_Won'] = np.where(Population.loc[:,'Medal'] == 'DNW', 0, 1)\n",
    "\n",
    "    "
   ]
  },
  {
   "cell_type": "code",
   "execution_count": 140,
   "metadata": {},
   "outputs": [],
   "source": [
    "Population.to_csv('athletePopulation.csv', sep=',')"
   ]
  }
 ],
 "metadata": {
  "kernelspec": {
   "display_name": "Python 3",
   "language": "python",
   "name": "python3"
  },
  "language_info": {
   "codemirror_mode": {
    "name": "ipython",
    "version": 3
   },
   "file_extension": ".py",
   "mimetype": "text/x-python",
   "name": "python",
   "nbconvert_exporter": "python",
   "pygments_lexer": "ipython3",
   "version": "3.7.3"
  }
 },
 "nbformat": 4,
 "nbformat_minor": 2
}
