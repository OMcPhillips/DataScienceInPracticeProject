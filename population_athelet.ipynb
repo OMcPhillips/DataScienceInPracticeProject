{
 "cells": [
  {
   "cell_type": "code",
   "execution_count": 717,
   "metadata": {},
   "outputs": [],
   "source": [
    "from scipy import stats\n",
    "import numpy as np\n",
    "import pandas as pd\n",
    "import matplotlib.pyplot as plt\n",
    "%matplotlib inline"
   ]
  },
  {
   "cell_type": "code",
   "execution_count": 718,
   "metadata": {},
   "outputs": [
    {
     "data": {
      "text/plain": [
       "(271116, 15)"
      ]
     },
     "execution_count": 718,
     "metadata": {},
     "output_type": "execute_result"
    }
   ],
   "source": [
    "athletes = pd.read_csv('athlete_events.csv')\n",
    "athletes.shape"
   ]
  },
  {
   "cell_type": "code",
   "execution_count": 719,
   "metadata": {},
   "outputs": [
    {
     "data": {
      "text/plain": [
       "(217, 62)"
      ]
     },
     "execution_count": 719,
     "metadata": {},
     "output_type": "execute_result"
    }
   ],
   "source": [
    "Population = pd.read_csv('WorldPopulation.csv')\n",
    "Population.shape"
   ]
  },
  {
   "cell_type": "code",
   "execution_count": 720,
   "metadata": {},
   "outputs": [],
   "source": [
    "Population.drop(['Indicator Name', 'Indicator Code', 'Unnamed: 61'], axis = 1, inplace=True)"
   ]
  },
  {
   "cell_type": "code",
   "execution_count": 721,
   "metadata": {},
   "outputs": [
    {
     "data": {
      "text/html": [
       "<div>\n",
       "<style scoped>\n",
       "    .dataframe tbody tr th:only-of-type {\n",
       "        vertical-align: middle;\n",
       "    }\n",
       "\n",
       "    .dataframe tbody tr th {\n",
       "        vertical-align: top;\n",
       "    }\n",
       "\n",
       "    .dataframe thead th {\n",
       "        text-align: right;\n",
       "    }\n",
       "</style>\n",
       "<table border=\"1\" class=\"dataframe\">\n",
       "  <thead>\n",
       "    <tr style=\"text-align: right;\">\n",
       "      <th></th>\n",
       "      <th>Country</th>\n",
       "      <th>Country Code</th>\n",
       "      <th>1960</th>\n",
       "      <th>1961</th>\n",
       "      <th>1962</th>\n",
       "      <th>1963</th>\n",
       "      <th>1964</th>\n",
       "      <th>1965</th>\n",
       "      <th>1966</th>\n",
       "      <th>1967</th>\n",
       "      <th>...</th>\n",
       "      <th>2007</th>\n",
       "      <th>2008</th>\n",
       "      <th>2009</th>\n",
       "      <th>2010</th>\n",
       "      <th>2011</th>\n",
       "      <th>2012</th>\n",
       "      <th>2013</th>\n",
       "      <th>2014</th>\n",
       "      <th>2015</th>\n",
       "      <th>2016</th>\n",
       "    </tr>\n",
       "  </thead>\n",
       "  <tbody>\n",
       "    <tr>\n",
       "      <th>124</th>\n",
       "      <td>Maldives</td>\n",
       "      <td>MDV</td>\n",
       "      <td>89887.0</td>\n",
       "      <td>92350.0</td>\n",
       "      <td>94938.0</td>\n",
       "      <td>97584.0</td>\n",
       "      <td>100214.0</td>\n",
       "      <td>102766.0</td>\n",
       "      <td>105190.0</td>\n",
       "      <td>107538.0</td>\n",
       "      <td>...</td>\n",
       "      <td>349000.0</td>\n",
       "      <td>362000.0</td>\n",
       "      <td>360000.0</td>\n",
       "      <td>367000.0</td>\n",
       "      <td>377000.0</td>\n",
       "      <td>385000.0</td>\n",
       "      <td>393000.0</td>\n",
       "      <td>401000.0</td>\n",
       "      <td>409163.0</td>\n",
       "      <td>417492</td>\n",
       "    </tr>\n",
       "    <tr>\n",
       "      <th>85</th>\n",
       "      <td>Haiti</td>\n",
       "      <td>HTI</td>\n",
       "      <td>3866159.0</td>\n",
       "      <td>3943364.0</td>\n",
       "      <td>4022593.0</td>\n",
       "      <td>4103730.0</td>\n",
       "      <td>4186640.0</td>\n",
       "      <td>4271133.0</td>\n",
       "      <td>4357484.0</td>\n",
       "      <td>4445530.0</td>\n",
       "      <td>...</td>\n",
       "      <td>9556889.0</td>\n",
       "      <td>9705029.0</td>\n",
       "      <td>9852870.0</td>\n",
       "      <td>9999617.0</td>\n",
       "      <td>10145054.0</td>\n",
       "      <td>10289210.0</td>\n",
       "      <td>10431776.0</td>\n",
       "      <td>10572466.0</td>\n",
       "      <td>10711061.0</td>\n",
       "      <td>10847334</td>\n",
       "    </tr>\n",
       "    <tr>\n",
       "      <th>194</th>\n",
       "      <td>Trinidad and Tobago</td>\n",
       "      <td>TTO</td>\n",
       "      <td>848479.0</td>\n",
       "      <td>865360.0</td>\n",
       "      <td>880023.0</td>\n",
       "      <td>892569.0</td>\n",
       "      <td>903275.0</td>\n",
       "      <td>912417.0</td>\n",
       "      <td>919903.0</td>\n",
       "      <td>925909.0</td>\n",
       "      <td>...</td>\n",
       "      <td>1309260.0</td>\n",
       "      <td>1315372.0</td>\n",
       "      <td>1321618.0</td>\n",
       "      <td>1328100.0</td>\n",
       "      <td>1334788.0</td>\n",
       "      <td>1341588.0</td>\n",
       "      <td>1348248.0</td>\n",
       "      <td>1354493.0</td>\n",
       "      <td>1360092.0</td>\n",
       "      <td>1364962</td>\n",
       "    </tr>\n",
       "  </tbody>\n",
       "</table>\n",
       "<p>3 rows × 59 columns</p>\n",
       "</div>"
      ],
      "text/plain": [
       "                 Country Country Code       1960       1961       1962  \\\n",
       "124             Maldives          MDV    89887.0    92350.0    94938.0   \n",
       "85                 Haiti          HTI  3866159.0  3943364.0  4022593.0   \n",
       "194  Trinidad and Tobago          TTO   848479.0   865360.0   880023.0   \n",
       "\n",
       "          1963       1964       1965       1966       1967  ...       2007  \\\n",
       "124    97584.0   100214.0   102766.0   105190.0   107538.0  ...   349000.0   \n",
       "85   4103730.0  4186640.0  4271133.0  4357484.0  4445530.0  ...  9556889.0   \n",
       "194   892569.0   903275.0   912417.0   919903.0   925909.0  ...  1309260.0   \n",
       "\n",
       "          2008       2009       2010        2011        2012        2013  \\\n",
       "124   362000.0   360000.0   367000.0    377000.0    385000.0    393000.0   \n",
       "85   9705029.0  9852870.0  9999617.0  10145054.0  10289210.0  10431776.0   \n",
       "194  1315372.0  1321618.0  1328100.0   1334788.0   1341588.0   1348248.0   \n",
       "\n",
       "           2014        2015      2016  \n",
       "124    401000.0    409163.0    417492  \n",
       "85   10572466.0  10711061.0  10847334  \n",
       "194   1354493.0   1360092.0   1364962  \n",
       "\n",
       "[3 rows x 59 columns]"
      ]
     },
     "execution_count": 721,
     "metadata": {},
     "output_type": "execute_result"
    }
   ],
   "source": [
    "Population.sample(3)"
   ]
  },
  {
   "cell_type": "code",
   "execution_count": 722,
   "metadata": {},
   "outputs": [
    {
     "data": {
      "text/html": [
       "<div>\n",
       "<style scoped>\n",
       "    .dataframe tbody tr th:only-of-type {\n",
       "        vertical-align: middle;\n",
       "    }\n",
       "\n",
       "    .dataframe tbody tr th {\n",
       "        vertical-align: top;\n",
       "    }\n",
       "\n",
       "    .dataframe thead th {\n",
       "        text-align: right;\n",
       "    }\n",
       "</style>\n",
       "<table border=\"1\" class=\"dataframe\">\n",
       "  <thead>\n",
       "    <tr style=\"text-align: right;\">\n",
       "      <th></th>\n",
       "      <th>ID</th>\n",
       "      <th>Name</th>\n",
       "      <th>Sex</th>\n",
       "      <th>Age</th>\n",
       "      <th>Height</th>\n",
       "      <th>Weight</th>\n",
       "      <th>Team</th>\n",
       "      <th>NOC</th>\n",
       "      <th>Games</th>\n",
       "      <th>Year</th>\n",
       "      <th>Season</th>\n",
       "      <th>City</th>\n",
       "      <th>Sport</th>\n",
       "      <th>Event</th>\n",
       "      <th>Medal</th>\n",
       "    </tr>\n",
       "  </thead>\n",
       "  <tbody>\n",
       "    <tr>\n",
       "      <th>251750</th>\n",
       "      <td>126088</td>\n",
       "      <td>Philippe Verneret</td>\n",
       "      <td>M</td>\n",
       "      <td>21.0</td>\n",
       "      <td>NaN</td>\n",
       "      <td>NaN</td>\n",
       "      <td>France</td>\n",
       "      <td>FRA</td>\n",
       "      <td>1984 Winter</td>\n",
       "      <td>1984</td>\n",
       "      <td>Winter</td>\n",
       "      <td>Sarajevo</td>\n",
       "      <td>Alpine Skiing</td>\n",
       "      <td>Alpine Skiing Men's Downhill</td>\n",
       "      <td>NaN</td>\n",
       "    </tr>\n",
       "    <tr>\n",
       "      <th>24935</th>\n",
       "      <td>13056</td>\n",
       "      <td>Hans-Jrgen Bombach</td>\n",
       "      <td>M</td>\n",
       "      <td>27.0</td>\n",
       "      <td>183.0</td>\n",
       "      <td>75.0</td>\n",
       "      <td>East Germany</td>\n",
       "      <td>GDR</td>\n",
       "      <td>1972 Summer</td>\n",
       "      <td>1972</td>\n",
       "      <td>Summer</td>\n",
       "      <td>Munich</td>\n",
       "      <td>Athletics</td>\n",
       "      <td>Athletics Men's 4 x 100 metres Relay</td>\n",
       "      <td>NaN</td>\n",
       "    </tr>\n",
       "    <tr>\n",
       "      <th>95435</th>\n",
       "      <td>48316</td>\n",
       "      <td>Reiner Heugabel</td>\n",
       "      <td>M</td>\n",
       "      <td>29.0</td>\n",
       "      <td>147.0</td>\n",
       "      <td>48.0</td>\n",
       "      <td>Germany</td>\n",
       "      <td>GER</td>\n",
       "      <td>1992 Summer</td>\n",
       "      <td>1992</td>\n",
       "      <td>Summer</td>\n",
       "      <td>Barcelona</td>\n",
       "      <td>Wrestling</td>\n",
       "      <td>Wrestling Men's Light-Flyweight, Freestyle</td>\n",
       "      <td>NaN</td>\n",
       "    </tr>\n",
       "  </tbody>\n",
       "</table>\n",
       "</div>"
      ],
      "text/plain": [
       "            ID                Name Sex   Age  Height  Weight          Team  \\\n",
       "251750  126088   Philippe Verneret   M  21.0     NaN     NaN        France   \n",
       "24935    13056  Hans-Jrgen Bombach   M  27.0   183.0    75.0  East Germany   \n",
       "95435    48316     Reiner Heugabel   M  29.0   147.0    48.0       Germany   \n",
       "\n",
       "        NOC        Games  Year  Season       City          Sport  \\\n",
       "251750  FRA  1984 Winter  1984  Winter   Sarajevo  Alpine Skiing   \n",
       "24935   GDR  1972 Summer  1972  Summer     Munich      Athletics   \n",
       "95435   GER  1992 Summer  1992  Summer  Barcelona      Wrestling   \n",
       "\n",
       "                                             Event Medal  \n",
       "251750                Alpine Skiing Men's Downhill   NaN  \n",
       "24935         Athletics Men's 4 x 100 metres Relay   NaN  \n",
       "95435   Wrestling Men's Light-Flyweight, Freestyle   NaN  "
      ]
     },
     "execution_count": 722,
     "metadata": {},
     "output_type": "execute_result"
    }
   ],
   "source": [
    "athletes.sample(3)"
   ]
  },
  {
   "cell_type": "code",
   "execution_count": 723,
   "metadata": {},
   "outputs": [
    {
     "data": {
      "text/plain": [
       "(13602, 15)"
      ]
     },
     "execution_count": 723,
     "metadata": {},
     "output_type": "execute_result"
    }
   ],
   "source": [
    "city = athletes['City'] == 'Beijing'\n",
    "athletes[city].head(3)\n",
    "athletes[city].shape"
   ]
  },
  {
   "cell_type": "code",
   "execution_count": 724,
   "metadata": {},
   "outputs": [],
   "source": [
    "Population = pd.melt(Population, id_vars = ['Country', 'Country Code'], var_name = 'Year', value_name = 'Population' )"
   ]
  },
  {
   "cell_type": "code",
   "execution_count": 725,
   "metadata": {},
   "outputs": [],
   "source": [
    "Population['Year'] = pd.to_numeric(Population['Year'])"
   ]
  },
  {
   "cell_type": "code",
   "execution_count": 726,
   "metadata": {},
   "outputs": [
    {
     "data": {
      "text/html": [
       "<div>\n",
       "<style scoped>\n",
       "    .dataframe tbody tr th:only-of-type {\n",
       "        vertical-align: middle;\n",
       "    }\n",
       "\n",
       "    .dataframe tbody tr th {\n",
       "        vertical-align: top;\n",
       "    }\n",
       "\n",
       "    .dataframe thead th {\n",
       "        text-align: right;\n",
       "    }\n",
       "</style>\n",
       "<table border=\"1\" class=\"dataframe\">\n",
       "  <thead>\n",
       "    <tr style=\"text-align: right;\">\n",
       "      <th></th>\n",
       "      <th>Country</th>\n",
       "      <th>Country Code</th>\n",
       "      <th>Year</th>\n",
       "      <th>Population</th>\n",
       "    </tr>\n",
       "  </thead>\n",
       "  <tbody>\n",
       "    <tr>\n",
       "      <th>0</th>\n",
       "      <td>Aruba</td>\n",
       "      <td>ABW</td>\n",
       "      <td>1960</td>\n",
       "      <td>54211.0</td>\n",
       "    </tr>\n",
       "    <tr>\n",
       "      <th>1</th>\n",
       "      <td>Afghanistan</td>\n",
       "      <td>AFG</td>\n",
       "      <td>1960</td>\n",
       "      <td>8996351.0</td>\n",
       "    </tr>\n",
       "    <tr>\n",
       "      <th>2</th>\n",
       "      <td>Angola</td>\n",
       "      <td>AGO</td>\n",
       "      <td>1960</td>\n",
       "      <td>5643182.0</td>\n",
       "    </tr>\n",
       "  </tbody>\n",
       "</table>\n",
       "</div>"
      ],
      "text/plain": [
       "       Country Country Code  Year  Population\n",
       "0        Aruba          ABW  1960     54211.0\n",
       "1  Afghanistan          AFG  1960   8996351.0\n",
       "2       Angola          AGO  1960   5643182.0"
      ]
     },
     "execution_count": 726,
     "metadata": {},
     "output_type": "execute_result"
    }
   ],
   "source": [
    "Population.head(3)"
   ]
  },
  {
   "cell_type": "code",
   "execution_count": 727,
   "metadata": {},
   "outputs": [],
   "source": [
    "#a = athletes.set_index('NOC').join(population_2008.set_index('Country Code'), how='inner')"
   ]
  },
  {
   "cell_type": "code",
   "execution_count": 728,
   "metadata": {},
   "outputs": [],
   "source": [
    "Population = pd.merge(Population, athletes, left_on = ['Country Code', 'Year'], right_on = ['NOC', 'Year'])"
   ]
  },
  {
   "cell_type": "code",
   "execution_count": 729,
   "metadata": {},
   "outputs": [
    {
     "data": {
      "text/plain": [
       "(151931, 18)"
      ]
     },
     "execution_count": 729,
     "metadata": {},
     "output_type": "execute_result"
    }
   ],
   "source": [
    "Population.shape"
   ]
  },
  {
   "cell_type": "code",
   "execution_count": 730,
   "metadata": {},
   "outputs": [
    {
     "data": {
      "text/html": [
       "<div>\n",
       "<style scoped>\n",
       "    .dataframe tbody tr th:only-of-type {\n",
       "        vertical-align: middle;\n",
       "    }\n",
       "\n",
       "    .dataframe tbody tr th {\n",
       "        vertical-align: top;\n",
       "    }\n",
       "\n",
       "    .dataframe thead th {\n",
       "        text-align: right;\n",
       "    }\n",
       "</style>\n",
       "<table border=\"1\" class=\"dataframe\">\n",
       "  <thead>\n",
       "    <tr style=\"text-align: right;\">\n",
       "      <th></th>\n",
       "      <th>Country</th>\n",
       "      <th>Country Code</th>\n",
       "      <th>Year</th>\n",
       "      <th>Population</th>\n",
       "      <th>ID</th>\n",
       "      <th>Name</th>\n",
       "      <th>Sex</th>\n",
       "      <th>Age</th>\n",
       "      <th>Height</th>\n",
       "      <th>Weight</th>\n",
       "      <th>Team</th>\n",
       "      <th>NOC</th>\n",
       "      <th>Games</th>\n",
       "      <th>Season</th>\n",
       "      <th>City</th>\n",
       "      <th>Sport</th>\n",
       "      <th>Event</th>\n",
       "      <th>Medal</th>\n",
       "    </tr>\n",
       "  </thead>\n",
       "  <tbody>\n",
       "    <tr>\n",
       "      <th>0</th>\n",
       "      <td>Afghanistan</td>\n",
       "      <td>AFG</td>\n",
       "      <td>1960</td>\n",
       "      <td>8996351.0</td>\n",
       "      <td>29626</td>\n",
       "      <td>Sultan Mohammad Dost</td>\n",
       "      <td>M</td>\n",
       "      <td>28.0</td>\n",
       "      <td>168.0</td>\n",
       "      <td>73.0</td>\n",
       "      <td>Afghanistan</td>\n",
       "      <td>AFG</td>\n",
       "      <td>1960 Summer</td>\n",
       "      <td>Summer</td>\n",
       "      <td>Roma</td>\n",
       "      <td>Wrestling</td>\n",
       "      <td>Wrestling Men's Welterweight, Freestyle</td>\n",
       "      <td>NaN</td>\n",
       "    </tr>\n",
       "    <tr>\n",
       "      <th>1</th>\n",
       "      <td>Afghanistan</td>\n",
       "      <td>AFG</td>\n",
       "      <td>1960</td>\n",
       "      <td>8996351.0</td>\n",
       "      <td>39922</td>\n",
       "      <td>Abdul Ghafar Ghafoori</td>\n",
       "      <td>M</td>\n",
       "      <td>22.0</td>\n",
       "      <td>172.0</td>\n",
       "      <td>70.0</td>\n",
       "      <td>Afghanistan</td>\n",
       "      <td>AFG</td>\n",
       "      <td>1960 Summer</td>\n",
       "      <td>Summer</td>\n",
       "      <td>Roma</td>\n",
       "      <td>Athletics</td>\n",
       "      <td>Athletics Men's 4 x 100 metres Relay</td>\n",
       "      <td>NaN</td>\n",
       "    </tr>\n",
       "    <tr>\n",
       "      <th>2</th>\n",
       "      <td>Afghanistan</td>\n",
       "      <td>AFG</td>\n",
       "      <td>1960</td>\n",
       "      <td>8996351.0</td>\n",
       "      <td>43901</td>\n",
       "      <td>Ghulam Mohiddin Gunga</td>\n",
       "      <td>M</td>\n",
       "      <td>26.0</td>\n",
       "      <td>168.0</td>\n",
       "      <td>81.0</td>\n",
       "      <td>Afghanistan</td>\n",
       "      <td>AFG</td>\n",
       "      <td>1960 Summer</td>\n",
       "      <td>Summer</td>\n",
       "      <td>Roma</td>\n",
       "      <td>Wrestling</td>\n",
       "      <td>Wrestling Men's Light-Heavyweight, Freestyle</td>\n",
       "      <td>NaN</td>\n",
       "    </tr>\n",
       "    <tr>\n",
       "      <th>3</th>\n",
       "      <td>Afghanistan</td>\n",
       "      <td>AFG</td>\n",
       "      <td>1960</td>\n",
       "      <td>8996351.0</td>\n",
       "      <td>58364</td>\n",
       "      <td>Mohammad Ibrahim Kederi</td>\n",
       "      <td>M</td>\n",
       "      <td>20.0</td>\n",
       "      <td>166.0</td>\n",
       "      <td>62.0</td>\n",
       "      <td>Afghanistan</td>\n",
       "      <td>AFG</td>\n",
       "      <td>1960 Summer</td>\n",
       "      <td>Summer</td>\n",
       "      <td>Roma</td>\n",
       "      <td>Wrestling</td>\n",
       "      <td>Wrestling Men's Featherweight, Freestyle</td>\n",
       "      <td>NaN</td>\n",
       "    </tr>\n",
       "  </tbody>\n",
       "</table>\n",
       "</div>"
      ],
      "text/plain": [
       "       Country Country Code  Year  Population     ID                     Name  \\\n",
       "0  Afghanistan          AFG  1960   8996351.0  29626     Sultan Mohammad Dost   \n",
       "1  Afghanistan          AFG  1960   8996351.0  39922    Abdul Ghafar Ghafoori   \n",
       "2  Afghanistan          AFG  1960   8996351.0  43901    Ghulam Mohiddin Gunga   \n",
       "3  Afghanistan          AFG  1960   8996351.0  58364  Mohammad Ibrahim Kederi   \n",
       "\n",
       "  Sex   Age  Height  Weight         Team  NOC        Games  Season  City  \\\n",
       "0   M  28.0   168.0    73.0  Afghanistan  AFG  1960 Summer  Summer  Roma   \n",
       "1   M  22.0   172.0    70.0  Afghanistan  AFG  1960 Summer  Summer  Roma   \n",
       "2   M  26.0   168.0    81.0  Afghanistan  AFG  1960 Summer  Summer  Roma   \n",
       "3   M  20.0   166.0    62.0  Afghanistan  AFG  1960 Summer  Summer  Roma   \n",
       "\n",
       "       Sport                                         Event Medal  \n",
       "0  Wrestling       Wrestling Men's Welterweight, Freestyle   NaN  \n",
       "1  Athletics          Athletics Men's 4 x 100 metres Relay   NaN  \n",
       "2  Wrestling  Wrestling Men's Light-Heavyweight, Freestyle   NaN  \n",
       "3  Wrestling      Wrestling Men's Featherweight, Freestyle   NaN  "
      ]
     },
     "execution_count": 730,
     "metadata": {},
     "output_type": "execute_result"
    }
   ],
   "source": [
    "Population.head(4)"
   ]
  },
  {
   "cell_type": "code",
   "execution_count": 731,
   "metadata": {},
   "outputs": [],
   "source": [
    "Population.to_csv('athletePopulation.csv', sep=',')"
   ]
  },
  {
   "cell_type": "code",
   "execution_count": 732,
   "metadata": {},
   "outputs": [],
   "source": [
    "Population = Population.drop( ['ID','NOC','Games'], axis=1)"
   ]
  },
  {
   "cell_type": "code",
   "execution_count": 733,
   "metadata": {},
   "outputs": [
    {
     "name": "stdout",
     "output_type": "stream",
     "text": [
      "Country              0\n",
      "Country Code         0\n",
      "Year                 0\n",
      "Population           0\n",
      "Name                 0\n",
      "Sex                  0\n",
      "Age                545\n",
      "Height            7426\n",
      "Weight            8098\n",
      "Team                 0\n",
      "Season               0\n",
      "City                 0\n",
      "Sport                0\n",
      "Event                0\n",
      "Medal           132298\n",
      "dtype: int64\n"
     ]
    }
   ],
   "source": [
    "print(Population.isnull().sum())"
   ]
  },
  {
   "cell_type": "code",
   "execution_count": 734,
   "metadata": {},
   "outputs": [],
   "source": [
    "Population = Population[Population['Age'].notna()]\n",
    "Population = Population[Population['Weight'].notna()]\n",
    "Population = Population[Population['Height'].notna()]\n",
    "Population['Medal'].fillna('DNW', inplace = True)"
   ]
  },
  {
   "cell_type": "code",
   "execution_count": 735,
   "metadata": {},
   "outputs": [
    {
     "name": "stdout",
     "output_type": "stream",
     "text": [
      "Country         0\n",
      "Country Code    0\n",
      "Year            0\n",
      "Population      0\n",
      "Name            0\n",
      "Sex             0\n",
      "Age             0\n",
      "Height          0\n",
      "Weight          0\n",
      "Team            0\n",
      "Season          0\n",
      "City            0\n",
      "Sport           0\n",
      "Event           0\n",
      "Medal           0\n",
      "dtype: int64\n"
     ]
    }
   ],
   "source": [
    "print(Population.isnull().sum())"
   ]
  },
  {
   "cell_type": "code",
   "execution_count": 736,
   "metadata": {},
   "outputs": [
    {
     "data": {
      "text/plain": [
       "(143142, 15)"
      ]
     },
     "execution_count": 736,
     "metadata": {},
     "output_type": "execute_result"
    }
   ],
   "source": [
    "Population.shape"
   ]
  },
  {
   "cell_type": "code",
   "execution_count": 737,
   "metadata": {},
   "outputs": [],
   "source": [
    "#if athlete won medals then exceed 1, if not tehn exceeds 0\n",
    "Population['Medal_Won'] = np.where(Population.loc[:,'Medal'] == 'DNW', 0, 1)\n",
    "\n",
    "    "
   ]
  },
  {
   "cell_type": "code",
   "execution_count": 738,
   "metadata": {},
   "outputs": [],
   "source": [
    "medal_total = Population.groupby(['Year','Country','Population'])['Medal_Won'].agg('sum').reset_index()"
   ]
  },
  {
   "cell_type": "code",
   "execution_count": 739,
   "metadata": {},
   "outputs": [
    {
     "data": {
      "text/html": [
       "<div>\n",
       "<style scoped>\n",
       "    .dataframe tbody tr th:only-of-type {\n",
       "        vertical-align: middle;\n",
       "    }\n",
       "\n",
       "    .dataframe tbody tr th {\n",
       "        vertical-align: top;\n",
       "    }\n",
       "\n",
       "    .dataframe thead th {\n",
       "        text-align: right;\n",
       "    }\n",
       "</style>\n",
       "<table border=\"1\" class=\"dataframe\">\n",
       "  <thead>\n",
       "    <tr style=\"text-align: right;\">\n",
       "      <th></th>\n",
       "      <th>Year</th>\n",
       "      <th>Country</th>\n",
       "      <th>Population</th>\n",
       "      <th>Medal_Won</th>\n",
       "    </tr>\n",
       "  </thead>\n",
       "  <tbody>\n",
       "    <tr>\n",
       "      <th>0</th>\n",
       "      <td>1960</td>\n",
       "      <td>Afghanistan</td>\n",
       "      <td>8996351.0</td>\n",
       "      <td>0</td>\n",
       "    </tr>\n",
       "    <tr>\n",
       "      <th>1</th>\n",
       "      <td>1960</td>\n",
       "      <td>Argentina</td>\n",
       "      <td>20619075.0</td>\n",
       "      <td>4</td>\n",
       "    </tr>\n",
       "    <tr>\n",
       "      <th>2</th>\n",
       "      <td>1960</td>\n",
       "      <td>Australia</td>\n",
       "      <td>10276477.0</td>\n",
       "      <td>42</td>\n",
       "    </tr>\n",
       "    <tr>\n",
       "      <th>3</th>\n",
       "      <td>1960</td>\n",
       "      <td>Austria</td>\n",
       "      <td>7047539.0</td>\n",
       "      <td>3</td>\n",
       "    </tr>\n",
       "    <tr>\n",
       "      <th>4</th>\n",
       "      <td>1960</td>\n",
       "      <td>Belgium</td>\n",
       "      <td>9153489.0</td>\n",
       "      <td>4</td>\n",
       "    </tr>\n",
       "  </tbody>\n",
       "</table>\n",
       "</div>"
      ],
      "text/plain": [
       "   Year      Country  Population  Medal_Won\n",
       "0  1960  Afghanistan   8996351.0          0\n",
       "1  1960    Argentina  20619075.0          4\n",
       "2  1960    Australia  10276477.0         42\n",
       "3  1960      Austria   7047539.0          3\n",
       "4  1960      Belgium   9153489.0          4"
      ]
     },
     "execution_count": 739,
     "metadata": {},
     "output_type": "execute_result"
    }
   ],
   "source": [
    "medal_total.head()"
   ]
  },
  {
   "cell_type": "code",
   "execution_count": 740,
   "metadata": {},
   "outputs": [],
   "source": [
    "medal_total = medal_total.loc[medal_total['Medal_Won'] > 0, :]"
   ]
  },
  {
   "cell_type": "code",
   "execution_count": 741,
   "metadata": {},
   "outputs": [
    {
     "data": {
      "text/html": [
       "<div>\n",
       "<style scoped>\n",
       "    .dataframe tbody tr th:only-of-type {\n",
       "        vertical-align: middle;\n",
       "    }\n",
       "\n",
       "    .dataframe tbody tr th {\n",
       "        vertical-align: top;\n",
       "    }\n",
       "\n",
       "    .dataframe thead th {\n",
       "        text-align: right;\n",
       "    }\n",
       "</style>\n",
       "<table border=\"1\" class=\"dataframe\">\n",
       "  <thead>\n",
       "    <tr style=\"text-align: right;\">\n",
       "      <th></th>\n",
       "      <th>Year</th>\n",
       "      <th>Country</th>\n",
       "      <th>Population</th>\n",
       "      <th>Medal_Won</th>\n",
       "    </tr>\n",
       "  </thead>\n",
       "  <tbody>\n",
       "    <tr>\n",
       "      <th>1</th>\n",
       "      <td>1960</td>\n",
       "      <td>Argentina</td>\n",
       "      <td>20619075.0</td>\n",
       "      <td>4</td>\n",
       "    </tr>\n",
       "    <tr>\n",
       "      <th>2</th>\n",
       "      <td>1960</td>\n",
       "      <td>Australia</td>\n",
       "      <td>10276477.0</td>\n",
       "      <td>42</td>\n",
       "    </tr>\n",
       "    <tr>\n",
       "      <th>3</th>\n",
       "      <td>1960</td>\n",
       "      <td>Austria</td>\n",
       "      <td>7047539.0</td>\n",
       "      <td>3</td>\n",
       "    </tr>\n",
       "    <tr>\n",
       "      <th>4</th>\n",
       "      <td>1960</td>\n",
       "      <td>Belgium</td>\n",
       "      <td>9153489.0</td>\n",
       "      <td>4</td>\n",
       "    </tr>\n",
       "    <tr>\n",
       "      <th>5</th>\n",
       "      <td>1960</td>\n",
       "      <td>Brazil</td>\n",
       "      <td>72207554.0</td>\n",
       "      <td>8</td>\n",
       "    </tr>\n",
       "  </tbody>\n",
       "</table>\n",
       "</div>"
      ],
      "text/plain": [
       "   Year    Country  Population  Medal_Won\n",
       "1  1960  Argentina  20619075.0          4\n",
       "2  1960  Australia  10276477.0         42\n",
       "3  1960    Austria   7047539.0          3\n",
       "4  1960    Belgium   9153489.0          4\n",
       "5  1960     Brazil  72207554.0          8"
      ]
     },
     "execution_count": 741,
     "metadata": {},
     "output_type": "execute_result"
    }
   ],
   "source": [
    "medal_total.head()"
   ]
  },
  {
   "cell_type": "code",
   "execution_count": 742,
   "metadata": {},
   "outputs": [
    {
     "data": {
      "text/plain": [
       "Country\n",
       "USA          3623\n",
       "Australia    1153\n",
       "Russia       1132\n",
       "China         985\n",
       "Name: All, dtype: int64"
      ]
     },
     "execution_count": 742,
     "metadata": {},
     "output_type": "execute_result"
    }
   ],
   "source": [
    "medal_total_pivot = pd.pivot_table(medal_total,\n",
    "                     index = 'Country',\n",
    "                     columns = 'Year',\n",
    "                     values = 'Medal_Won',\n",
    "                     aggfunc = 'sum',\n",
    "                     margins = True).sort_values('All', ascending = False)[1:5]\n",
    "\n",
    "medal_total_pivot.loc[:,'All']"
   ]
  },
  {
   "cell_type": "code",
   "execution_count": 743,
   "metadata": {},
   "outputs": [
    {
     "data": {
      "text/html": [
       "<div>\n",
       "<style scoped>\n",
       "    .dataframe tbody tr th:only-of-type {\n",
       "        vertical-align: middle;\n",
       "    }\n",
       "\n",
       "    .dataframe tbody tr th {\n",
       "        vertical-align: top;\n",
       "    }\n",
       "\n",
       "    .dataframe thead th {\n",
       "        text-align: right;\n",
       "    }\n",
       "</style>\n",
       "<table border=\"1\" class=\"dataframe\">\n",
       "  <thead>\n",
       "    <tr style=\"text-align: right;\">\n",
       "      <th></th>\n",
       "      <th>Year</th>\n",
       "      <th>Country</th>\n",
       "      <th>Population</th>\n",
       "      <th>Medal_Won</th>\n",
       "    </tr>\n",
       "  </thead>\n",
       "  <tbody>\n",
       "    <tr>\n",
       "      <th>2</th>\n",
       "      <td>1960</td>\n",
       "      <td>Australia</td>\n",
       "      <td>10276477.0</td>\n",
       "      <td>42</td>\n",
       "    </tr>\n",
       "    <tr>\n",
       "      <th>47</th>\n",
       "      <td>1960</td>\n",
       "      <td>USA</td>\n",
       "      <td>180671000.0</td>\n",
       "      <td>143</td>\n",
       "    </tr>\n",
       "    <tr>\n",
       "      <th>53</th>\n",
       "      <td>1964</td>\n",
       "      <td>Australia</td>\n",
       "      <td>11167000.0</td>\n",
       "      <td>37</td>\n",
       "    </tr>\n",
       "    <tr>\n",
       "      <th>104</th>\n",
       "      <td>1964</td>\n",
       "      <td>USA</td>\n",
       "      <td>191889000.0</td>\n",
       "      <td>177</td>\n",
       "    </tr>\n",
       "    <tr>\n",
       "      <th>110</th>\n",
       "      <td>1968</td>\n",
       "      <td>Australia</td>\n",
       "      <td>12009000.0</td>\n",
       "      <td>51</td>\n",
       "    </tr>\n",
       "  </tbody>\n",
       "</table>\n",
       "</div>"
      ],
      "text/plain": [
       "     Year    Country   Population  Medal_Won\n",
       "2    1960  Australia   10276477.0         42\n",
       "47   1960        USA  180671000.0        143\n",
       "53   1964  Australia   11167000.0         37\n",
       "104  1964        USA  191889000.0        177\n",
       "110  1968  Australia   12009000.0         51"
      ]
     },
     "execution_count": 743,
     "metadata": {},
     "output_type": "execute_result"
    }
   ],
   "source": [
    "filter_list = ['USA', 'Australia', 'Russia']\n",
    "top_countries = medal_total[medal_total.Country.isin(filter_list)]\n",
    "top_countries.head()"
   ]
  },
  {
   "cell_type": "code",
   "execution_count": 744,
   "metadata": {},
   "outputs": [],
   "source": [
    "import seaborn as sns\n"
   ]
  },
  {
   "cell_type": "code",
   "execution_count": 745,
   "metadata": {},
   "outputs": [
    {
     "name": "stderr",
     "output_type": "stream",
     "text": [
      "/Users/guyihan/anaconda3/lib/python3.7/site-packages/seaborn/axisgrid.py:2065: UserWarning: The `size` parameter has been renamed to `height`; pleaes update your code.\n",
      "  warnings.warn(msg, UserWarning)\n"
     ]
    },
    {
     "data": {
      "text/plain": [
       "<seaborn.axisgrid.PairGrid at 0x1a27392e48>"
      ]
     },
     "execution_count": 745,
     "metadata": {},
     "output_type": "execute_result"
    },
    {
     "data": {
      "image/png": "[encoded data removed]",
      "text/plain": [
       "<Figure size 440.5x360 with 1 Axes>"
      ]
     },
     "metadata": {
      "needs_background": "light"
     },
     "output_type": "display_data"
    }
   ],
   "source": [
    "\n",
    "sns.pairplot(x_vars=[\"Medal_Won\"], y_vars=[\"Population\"], data=top_countries, hue=\"Country\", size=5)\n"
   ]
  },
  {
   "cell_type": "code",
   "execution_count": 746,
   "metadata": {},
   "outputs": [
    {
     "data": {
      "image/png": "[encoded data removed]",
      "text/plain": [
       "<Figure size 440.5x360 with 1 Axes>"
      ]
     },
     "metadata": {
      "needs_background": "light"
     },
     "output_type": "display_data"
    }
   ],
   "source": [
    "sns.lmplot(x=\"Medal_Won\", y=\"Population\", hue=\"Country\", data=top_countries);"
   ]
  },
  {
   "cell_type": "code",
   "execution_count": 747,
   "metadata": {},
   "outputs": [],
   "source": [
    "medal_mean = Population.groupby(['Year','Country','Population'])['Medal_Won'].agg('mean').reset_index()"
   ]
  },
  {
   "cell_type": "code",
   "execution_count": 748,
   "metadata": {
    "scrolled": true
   },
   "outputs": [
    {
     "data": {
      "text/html": [
       "<div>\n",
       "<style scoped>\n",
       "    .dataframe tbody tr th:only-of-type {\n",
       "        vertical-align: middle;\n",
       "    }\n",
       "\n",
       "    .dataframe tbody tr th {\n",
       "        vertical-align: top;\n",
       "    }\n",
       "\n",
       "    .dataframe thead th {\n",
       "        text-align: right;\n",
       "    }\n",
       "</style>\n",
       "<table border=\"1\" class=\"dataframe\">\n",
       "  <thead>\n",
       "    <tr style=\"text-align: right;\">\n",
       "      <th></th>\n",
       "      <th>Year</th>\n",
       "      <th>Country</th>\n",
       "      <th>Population</th>\n",
       "      <th>Medal_Won</th>\n",
       "    </tr>\n",
       "  </thead>\n",
       "  <tbody>\n",
       "    <tr>\n",
       "      <th>0</th>\n",
       "      <td>1960</td>\n",
       "      <td>Afghanistan</td>\n",
       "      <td>8996351.0</td>\n",
       "      <td>0.000000</td>\n",
       "    </tr>\n",
       "    <tr>\n",
       "      <th>1</th>\n",
       "      <td>1960</td>\n",
       "      <td>Argentina</td>\n",
       "      <td>20619075.0</td>\n",
       "      <td>0.034483</td>\n",
       "    </tr>\n",
       "    <tr>\n",
       "      <th>2</th>\n",
       "      <td>1960</td>\n",
       "      <td>Australia</td>\n",
       "      <td>10276477.0</td>\n",
       "      <td>0.151625</td>\n",
       "    </tr>\n",
       "    <tr>\n",
       "      <th>3</th>\n",
       "      <td>1960</td>\n",
       "      <td>Austria</td>\n",
       "      <td>7047539.0</td>\n",
       "      <td>0.021277</td>\n",
       "    </tr>\n",
       "    <tr>\n",
       "      <th>4</th>\n",
       "      <td>1960</td>\n",
       "      <td>Belgium</td>\n",
       "      <td>9153489.0</td>\n",
       "      <td>0.026667</td>\n",
       "    </tr>\n",
       "  </tbody>\n",
       "</table>\n",
       "</div>"
      ],
      "text/plain": [
       "   Year      Country  Population  Medal_Won\n",
       "0  1960  Afghanistan   8996351.0   0.000000\n",
       "1  1960    Argentina  20619075.0   0.034483\n",
       "2  1960    Australia  10276477.0   0.151625\n",
       "3  1960      Austria   7047539.0   0.021277\n",
       "4  1960      Belgium   9153489.0   0.026667"
      ]
     },
     "execution_count": 748,
     "metadata": {},
     "output_type": "execute_result"
    }
   ],
   "source": [
    "medal_mean.head()"
   ]
  },
  {
   "cell_type": "code",
   "execution_count": 749,
   "metadata": {},
   "outputs": [
    {
     "data": {
      "text/html": [
       "<div>\n",
       "<style scoped>\n",
       "    .dataframe tbody tr th:only-of-type {\n",
       "        vertical-align: middle;\n",
       "    }\n",
       "\n",
       "    .dataframe tbody tr th {\n",
       "        vertical-align: top;\n",
       "    }\n",
       "\n",
       "    .dataframe thead th {\n",
       "        text-align: right;\n",
       "    }\n",
       "</style>\n",
       "<table border=\"1\" class=\"dataframe\">\n",
       "  <thead>\n",
       "    <tr style=\"text-align: right;\">\n",
       "      <th></th>\n",
       "      <th>Year</th>\n",
       "      <th>Country</th>\n",
       "      <th>Population</th>\n",
       "      <th>Medal_Won</th>\n",
       "    </tr>\n",
       "  </thead>\n",
       "  <tbody>\n",
       "    <tr>\n",
       "      <th>2</th>\n",
       "      <td>1960</td>\n",
       "      <td>Australia</td>\n",
       "      <td>10276477.0</td>\n",
       "      <td>0.151625</td>\n",
       "    </tr>\n",
       "    <tr>\n",
       "      <th>47</th>\n",
       "      <td>1960</td>\n",
       "      <td>USA</td>\n",
       "      <td>180671000.0</td>\n",
       "      <td>0.301688</td>\n",
       "    </tr>\n",
       "    <tr>\n",
       "      <th>53</th>\n",
       "      <td>1964</td>\n",
       "      <td>Australia</td>\n",
       "      <td>11167000.0</td>\n",
       "      <td>0.106017</td>\n",
       "    </tr>\n",
       "    <tr>\n",
       "      <th>104</th>\n",
       "      <td>1964</td>\n",
       "      <td>USA</td>\n",
       "      <td>191889000.0</td>\n",
       "      <td>0.285945</td>\n",
       "    </tr>\n",
       "    <tr>\n",
       "      <th>110</th>\n",
       "      <td>1968</td>\n",
       "      <td>Australia</td>\n",
       "      <td>12009000.0</td>\n",
       "      <td>0.221739</td>\n",
       "    </tr>\n",
       "  </tbody>\n",
       "</table>\n",
       "</div>"
      ],
      "text/plain": [
       "     Year    Country   Population  Medal_Won\n",
       "2    1960  Australia   10276477.0   0.151625\n",
       "47   1960        USA  180671000.0   0.301688\n",
       "53   1964  Australia   11167000.0   0.106017\n",
       "104  1964        USA  191889000.0   0.285945\n",
       "110  1968  Australia   12009000.0   0.221739"
      ]
     },
     "execution_count": 749,
     "metadata": {},
     "output_type": "execute_result"
    }
   ],
   "source": [
    "countries = ['USA', 'Australia', 'Russia']\n",
    "top_countries_mean = medal_mean[medal_mean.Country.isin(countries)]\n",
    "top_countries_mean.head()"
   ]
  },
  {
   "cell_type": "code",
   "execution_count": 750,
   "metadata": {},
   "outputs": [
    {
     "data": {
      "text/plain": [
       "<seaborn.axisgrid.PairGrid at 0x1a1cd49f60>"
      ]
     },
     "execution_count": 750,
     "metadata": {},
     "output_type": "execute_result"
    },
    {
     "data": {
      "image/png": "[encoded data removed]",
      "text/plain": [
       "<Figure size 440.5x360 with 1 Axes>"
      ]
     },
     "metadata": {
      "needs_background": "light"
     },
     "output_type": "display_data"
    }
   ],
   "source": [
    "sns.pairplot(x_vars=[\"Medal_Won\"], y_vars=[\"Population\"], data=top_countries_mean, hue=\"Country\", size=5)\n"
   ]
  },
  {
   "cell_type": "code",
   "execution_count": 751,
   "metadata": {},
   "outputs": [
    {
     "data": {
      "image/png": "[encoded data removed]",
      "text/plain": [
       "<Figure size 440.5x360 with 1 Axes>"
      ]
     },
     "metadata": {
      "needs_background": "light"
     },
     "output_type": "display_data"
    }
   ],
   "source": [
    "sns.lmplot(x=\"Medal_Won\", y=\"Population\", hue=\"Country\", data=top_countries_mean);"
   ]
  },
  {
   "cell_type": "code",
   "execution_count": 752,
   "metadata": {},
   "outputs": [],
   "source": [
    "medal_total = Population.groupby(['Year','Country','Population','Sport'])['Medal_Won'].agg('sum').reset_index()"
   ]
  },
  {
   "cell_type": "code",
   "execution_count": 753,
   "metadata": {},
   "outputs": [
    {
     "data": {
      "text/html": [
       "<div>\n",
       "<style scoped>\n",
       "    .dataframe tbody tr th:only-of-type {\n",
       "        vertical-align: middle;\n",
       "    }\n",
       "\n",
       "    .dataframe tbody tr th {\n",
       "        vertical-align: top;\n",
       "    }\n",
       "\n",
       "    .dataframe thead th {\n",
       "        text-align: right;\n",
       "    }\n",
       "</style>\n",
       "<table border=\"1\" class=\"dataframe\">\n",
       "  <thead>\n",
       "    <tr style=\"text-align: right;\">\n",
       "      <th></th>\n",
       "      <th>Year</th>\n",
       "      <th>Country</th>\n",
       "      <th>Population</th>\n",
       "      <th>Sport</th>\n",
       "      <th>Medal_Won</th>\n",
       "    </tr>\n",
       "  </thead>\n",
       "  <tbody>\n",
       "    <tr>\n",
       "      <th>0</th>\n",
       "      <td>1960</td>\n",
       "      <td>Afghanistan</td>\n",
       "      <td>8996351.0</td>\n",
       "      <td>Athletics</td>\n",
       "      <td>0</td>\n",
       "    </tr>\n",
       "    <tr>\n",
       "      <th>1</th>\n",
       "      <td>1960</td>\n",
       "      <td>Afghanistan</td>\n",
       "      <td>8996351.0</td>\n",
       "      <td>Wrestling</td>\n",
       "      <td>0</td>\n",
       "    </tr>\n",
       "    <tr>\n",
       "      <th>2</th>\n",
       "      <td>1960</td>\n",
       "      <td>Argentina</td>\n",
       "      <td>20619075.0</td>\n",
       "      <td>Athletics</td>\n",
       "      <td>0</td>\n",
       "    </tr>\n",
       "    <tr>\n",
       "      <th>3</th>\n",
       "      <td>1960</td>\n",
       "      <td>Argentina</td>\n",
       "      <td>20619075.0</td>\n",
       "      <td>Boxing</td>\n",
       "      <td>1</td>\n",
       "    </tr>\n",
       "    <tr>\n",
       "      <th>4</th>\n",
       "      <td>1960</td>\n",
       "      <td>Argentina</td>\n",
       "      <td>20619075.0</td>\n",
       "      <td>Cycling</td>\n",
       "      <td>0</td>\n",
       "    </tr>\n",
       "  </tbody>\n",
       "</table>\n",
       "</div>"
      ],
      "text/plain": [
       "   Year      Country  Population      Sport  Medal_Won\n",
       "0  1960  Afghanistan   8996351.0  Athletics          0\n",
       "1  1960  Afghanistan   8996351.0  Wrestling          0\n",
       "2  1960    Argentina  20619075.0  Athletics          0\n",
       "3  1960    Argentina  20619075.0     Boxing          1\n",
       "4  1960    Argentina  20619075.0    Cycling          0"
      ]
     },
     "execution_count": 753,
     "metadata": {},
     "output_type": "execute_result"
    }
   ],
   "source": [
    "medal_total.head()"
   ]
  },
  {
   "cell_type": "code",
   "execution_count": 754,
   "metadata": {},
   "outputs": [],
   "source": [
    "is_Swimming =  medal_total['Sport']=='Swimming'\n",
    "medal_total = medal_total[is_Swimming]"
   ]
  },
  {
   "cell_type": "code",
   "execution_count": 755,
   "metadata": {},
   "outputs": [
    {
     "data": {
      "text/html": [
       "<div>\n",
       "<style scoped>\n",
       "    .dataframe tbody tr th:only-of-type {\n",
       "        vertical-align: middle;\n",
       "    }\n",
       "\n",
       "    .dataframe tbody tr th {\n",
       "        vertical-align: top;\n",
       "    }\n",
       "\n",
       "    .dataframe thead th {\n",
       "        text-align: right;\n",
       "    }\n",
       "</style>\n",
       "<table border=\"1\" class=\"dataframe\">\n",
       "  <thead>\n",
       "    <tr style=\"text-align: right;\">\n",
       "      <th></th>\n",
       "      <th>Year</th>\n",
       "      <th>Country</th>\n",
       "      <th>Population</th>\n",
       "      <th>Sport</th>\n",
       "      <th>Medal_Won</th>\n",
       "    </tr>\n",
       "  </thead>\n",
       "  <tbody>\n",
       "    <tr>\n",
       "      <th>14</th>\n",
       "      <td>1960</td>\n",
       "      <td>Argentina</td>\n",
       "      <td>20619075.0</td>\n",
       "      <td>Swimming</td>\n",
       "      <td>0</td>\n",
       "    </tr>\n",
       "    <tr>\n",
       "      <th>32</th>\n",
       "      <td>1960</td>\n",
       "      <td>Australia</td>\n",
       "      <td>10276477.0</td>\n",
       "      <td>Swimming</td>\n",
       "      <td>30</td>\n",
       "    </tr>\n",
       "    <tr>\n",
       "      <th>51</th>\n",
       "      <td>1960</td>\n",
       "      <td>Austria</td>\n",
       "      <td>7047539.0</td>\n",
       "      <td>Swimming</td>\n",
       "      <td>0</td>\n",
       "    </tr>\n",
       "    <tr>\n",
       "      <th>66</th>\n",
       "      <td>1960</td>\n",
       "      <td>Belgium</td>\n",
       "      <td>9153489.0</td>\n",
       "      <td>Swimming</td>\n",
       "      <td>0</td>\n",
       "    </tr>\n",
       "    <tr>\n",
       "      <th>91</th>\n",
       "      <td>1960</td>\n",
       "      <td>Canada</td>\n",
       "      <td>17909009.0</td>\n",
       "      <td>Swimming</td>\n",
       "      <td>0</td>\n",
       "    </tr>\n",
       "  </tbody>\n",
       "</table>\n",
       "</div>"
      ],
      "text/plain": [
       "    Year    Country  Population     Sport  Medal_Won\n",
       "14  1960  Argentina  20619075.0  Swimming          0\n",
       "32  1960  Australia  10276477.0  Swimming         30\n",
       "51  1960    Austria   7047539.0  Swimming          0\n",
       "66  1960    Belgium   9153489.0  Swimming          0\n",
       "91  1960     Canada  17909009.0  Swimming          0"
      ]
     },
     "execution_count": 755,
     "metadata": {},
     "output_type": "execute_result"
    }
   ],
   "source": [
    "medal_total.head()"
   ]
  },
  {
   "cell_type": "code",
   "execution_count": 756,
   "metadata": {},
   "outputs": [
    {
     "data": {
      "text/html": [
       "<div>\n",
       "<style scoped>\n",
       "    .dataframe tbody tr th:only-of-type {\n",
       "        vertical-align: middle;\n",
       "    }\n",
       "\n",
       "    .dataframe tbody tr th {\n",
       "        vertical-align: top;\n",
       "    }\n",
       "\n",
       "    .dataframe thead th {\n",
       "        text-align: right;\n",
       "    }\n",
       "</style>\n",
       "<table border=\"1\" class=\"dataframe\">\n",
       "  <thead>\n",
       "    <tr style=\"text-align: right;\">\n",
       "      <th></th>\n",
       "      <th>Year</th>\n",
       "      <th>Country</th>\n",
       "      <th>Population</th>\n",
       "      <th>Sport</th>\n",
       "      <th>Medal_Won</th>\n",
       "    </tr>\n",
       "  </thead>\n",
       "  <tbody>\n",
       "    <tr>\n",
       "      <th>32</th>\n",
       "      <td>1960</td>\n",
       "      <td>Australia</td>\n",
       "      <td>10276477.0</td>\n",
       "      <td>Swimming</td>\n",
       "      <td>30</td>\n",
       "    </tr>\n",
       "    <tr>\n",
       "      <th>472</th>\n",
       "      <td>1960</td>\n",
       "      <td>USA</td>\n",
       "      <td>180671000.0</td>\n",
       "      <td>Swimming</td>\n",
       "      <td>40</td>\n",
       "    </tr>\n",
       "    <tr>\n",
       "      <th>521</th>\n",
       "      <td>1964</td>\n",
       "      <td>Australia</td>\n",
       "      <td>11167000.0</td>\n",
       "      <td>Swimming</td>\n",
       "      <td>13</td>\n",
       "    </tr>\n",
       "    <tr>\n",
       "      <th>1008</th>\n",
       "      <td>1964</td>\n",
       "      <td>USA</td>\n",
       "      <td>191889000.0</td>\n",
       "      <td>Swimming</td>\n",
       "      <td>61</td>\n",
       "    </tr>\n",
       "    <tr>\n",
       "      <th>1055</th>\n",
       "      <td>1968</td>\n",
       "      <td>Australia</td>\n",
       "      <td>12009000.0</td>\n",
       "      <td>Swimming</td>\n",
       "      <td>18</td>\n",
       "    </tr>\n",
       "  </tbody>\n",
       "</table>\n",
       "</div>"
      ],
      "text/plain": [
       "      Year    Country   Population     Sport  Medal_Won\n",
       "32    1960  Australia   10276477.0  Swimming         30\n",
       "472   1960        USA  180671000.0  Swimming         40\n",
       "521   1964  Australia   11167000.0  Swimming         13\n",
       "1008  1964        USA  191889000.0  Swimming         61\n",
       "1055  1968  Australia   12009000.0  Swimming         18"
      ]
     },
     "execution_count": 756,
     "metadata": {},
     "output_type": "execute_result"
    }
   ],
   "source": [
    "countries = ['USA', 'Australia', 'Russia','Ireland']\n",
    "top_countries_mean = medal_total[medal_total.Country.isin(countries)]\n",
    "top_countries_mean.head()"
   ]
  },
  {
   "cell_type": "code",
   "execution_count": 757,
   "metadata": {},
   "outputs": [
    {
     "data": {
      "image/png": "[encoded data removed]",
      "text/plain": [
       "<Figure size 440.5x360 with 1 Axes>"
      ]
     },
     "metadata": {
      "needs_background": "light"
     },
     "output_type": "display_data"
    }
   ],
   "source": [
    "sns.lmplot(x=\"Medal_Won\", y=\"Population\", hue=\"Country\", data=top_countries_mean);"
   ]
  },
  {
   "cell_type": "code",
   "execution_count": 758,
   "metadata": {},
   "outputs": [
    {
     "data": {
      "image/png": "[encoded data removed]",
      "text/plain": [
       "<Figure size 432x288 with 2 Axes>"
      ]
     },
     "metadata": {
      "needs_background": "light"
     },
     "output_type": "display_data"
    },
    {
     "data": {
      "image/png": "[encoded data removed]",
      "text/plain": [
       "<Figure size 432x288 with 2 Axes>"
      ]
     },
     "metadata": {
      "needs_background": "light"
     },
     "output_type": "display_data"
    },
    {
     "data": {
      "image/png": "[encoded data removed]",
      "text/plain": [
       "<Figure size 432x288 with 2 Axes>"
      ]
     },
     "metadata": {
      "needs_background": "light"
     },
     "output_type": "display_data"
    },
    {
     "data": {
      "image/png": "[encoded data removed]",
      "text/plain": [
       "<Figure size 432x288 with 2 Axes>"
      ]
     },
     "metadata": {
      "needs_background": "light"
     },
     "output_type": "display_data"
    }
   ],
   "source": [
    "Ireland = medal_total[medal_total['Country'] == 'Ireland']\n",
    "Australia = medal_total[medal_total['Country'] == 'Australia']\n",
    "Russia = medal_total[medal_total['Country'] == 'Russia']\n",
    "USA = medal_total[medal_total['Country'] == 'USA']\n",
    "\n",
    "ax = Ireland.plot(x=\"Year\", y=\"Population\", legend=False)\n",
    "ax2 = ax.twinx()\n",
    "Ireland.plot(x=\"Year\", y=\"Medal_Won\", ax=ax2, legend=False, color=\"r\")\n",
    "ax.figure.legend()\n",
    "plt.grid(True)\n",
    "\n",
    "\n",
    "ax = Australia.plot(x=\"Year\", y=\"Population\", legend=False)\n",
    "ax2 = ax.twinx()\n",
    "Australia.plot(x=\"Year\", y=\"Medal_Won\", ax=ax2, legend=False, color=\"r\")\n",
    "ax.figure.legend()\n",
    "plt.grid(True)\n",
    "\n",
    "ax = Russia.plot(x=\"Year\", y=\"Population\", legend=False)\n",
    "ax2 = ax.twinx()\n",
    "Russia.plot(x=\"Year\", y=\"Medal_Won\", ax=ax2, legend=False, color=\"r\")\n",
    "ax.figure.legend()\n",
    "plt.grid(True)\n",
    "\n",
    "ax = USA.plot(x=\"Year\", y=\"Population\", legend=False)\n",
    "ax2 = ax.twinx()\n",
    "USA.plot(x=\"Year\", y=\"Medal_Won\", ax=ax2, legend=False, color=\"r\")\n",
    "ax.figure.legend()\n",
    "plt.grid(True)\n",
    "plt.show()"
   ]
  },
  {
   "cell_type": "code",
   "execution_count": 759,
   "metadata": {},
   "outputs": [],
   "source": [
    "events = pd.pivot_table(Population,  index = ['Country', 'Year','Population'], columns = 'Medal', values = 'Medal_Won', aggfunc = 'sum',fill_value = 0).drop('DNW', axis = 1).reset_index()\n",
    "\n",
    "#events = events.loc[events['Gold'] > 0, :]\n",
    "\n",
    "Country = events['Country'].unique()\n",
    "\n",
    "year = events['Year'].unique()\n"
   ]
  },
  {
   "cell_type": "code",
   "execution_count": 760,
   "metadata": {},
   "outputs": [
    {
     "data": {
      "text/html": [
       "<div>\n",
       "<style scoped>\n",
       "    .dataframe tbody tr th:only-of-type {\n",
       "        vertical-align: middle;\n",
       "    }\n",
       "\n",
       "    .dataframe tbody tr th {\n",
       "        vertical-align: top;\n",
       "    }\n",
       "\n",
       "    .dataframe thead th {\n",
       "        text-align: right;\n",
       "    }\n",
       "</style>\n",
       "<table border=\"1\" class=\"dataframe\">\n",
       "  <thead>\n",
       "    <tr style=\"text-align: right;\">\n",
       "      <th>Medal</th>\n",
       "      <th>Country</th>\n",
       "      <th>Year</th>\n",
       "      <th>Population</th>\n",
       "      <th>Bronze</th>\n",
       "      <th>Gold</th>\n",
       "      <th>Silver</th>\n",
       "    </tr>\n",
       "  </thead>\n",
       "  <tbody>\n",
       "    <tr>\n",
       "      <th>0</th>\n",
       "      <td>Afghanistan</td>\n",
       "      <td>1960</td>\n",
       "      <td>8996351.0</td>\n",
       "      <td>0</td>\n",
       "      <td>0</td>\n",
       "      <td>0</td>\n",
       "    </tr>\n",
       "    <tr>\n",
       "      <th>1</th>\n",
       "      <td>Afghanistan</td>\n",
       "      <td>1964</td>\n",
       "      <td>9731361.0</td>\n",
       "      <td>0</td>\n",
       "      <td>0</td>\n",
       "      <td>0</td>\n",
       "    </tr>\n",
       "    <tr>\n",
       "      <th>2</th>\n",
       "      <td>Afghanistan</td>\n",
       "      <td>1968</td>\n",
       "      <td>10604346.0</td>\n",
       "      <td>0</td>\n",
       "      <td>0</td>\n",
       "      <td>0</td>\n",
       "    </tr>\n",
       "    <tr>\n",
       "      <th>3</th>\n",
       "      <td>Afghanistan</td>\n",
       "      <td>1972</td>\n",
       "      <td>11721940.0</td>\n",
       "      <td>0</td>\n",
       "      <td>0</td>\n",
       "      <td>0</td>\n",
       "    </tr>\n",
       "    <tr>\n",
       "      <th>4</th>\n",
       "      <td>Afghanistan</td>\n",
       "      <td>1980</td>\n",
       "      <td>13248370.0</td>\n",
       "      <td>0</td>\n",
       "      <td>0</td>\n",
       "      <td>0</td>\n",
       "    </tr>\n",
       "  </tbody>\n",
       "</table>\n",
       "</div>"
      ],
      "text/plain": [
       "Medal      Country  Year  Population  Bronze  Gold  Silver\n",
       "0      Afghanistan  1960   8996351.0       0     0       0\n",
       "1      Afghanistan  1964   9731361.0       0     0       0\n",
       "2      Afghanistan  1968  10604346.0       0     0       0\n",
       "3      Afghanistan  1972  11721940.0       0     0       0\n",
       "4      Afghanistan  1980  13248370.0       0     0       0"
      ]
     },
     "execution_count": 760,
     "metadata": {},
     "output_type": "execute_result"
    }
   ],
   "source": [
    "events.head()"
   ]
  },
  {
   "cell_type": "code",
   "execution_count": 761,
   "metadata": {},
   "outputs": [],
   "source": [
    "events['Grade'] = np.where((events['Gold']>0) | (events['Silver']>0) | (events['Bronze']>0), events['Gold']*3+events['Silver']*2+events['Bronze'],0)\n"
   ]
  },
  {
   "cell_type": "code",
   "execution_count": 762,
   "metadata": {},
   "outputs": [
    {
     "data": {
      "text/html": [
       "<div>\n",
       "<style scoped>\n",
       "    .dataframe tbody tr th:only-of-type {\n",
       "        vertical-align: middle;\n",
       "    }\n",
       "\n",
       "    .dataframe tbody tr th {\n",
       "        vertical-align: top;\n",
       "    }\n",
       "\n",
       "    .dataframe thead th {\n",
       "        text-align: right;\n",
       "    }\n",
       "</style>\n",
       "<table border=\"1\" class=\"dataframe\">\n",
       "  <thead>\n",
       "    <tr style=\"text-align: right;\">\n",
       "      <th>Medal</th>\n",
       "      <th>Country</th>\n",
       "      <th>Year</th>\n",
       "      <th>Population</th>\n",
       "      <th>Bronze</th>\n",
       "      <th>Gold</th>\n",
       "      <th>Silver</th>\n",
       "      <th>Grade</th>\n",
       "    </tr>\n",
       "  </thead>\n",
       "  <tbody>\n",
       "    <tr>\n",
       "      <th>0</th>\n",
       "      <td>Afghanistan</td>\n",
       "      <td>1960</td>\n",
       "      <td>8996351.0</td>\n",
       "      <td>0</td>\n",
       "      <td>0</td>\n",
       "      <td>0</td>\n",
       "      <td>0</td>\n",
       "    </tr>\n",
       "    <tr>\n",
       "      <th>1</th>\n",
       "      <td>Afghanistan</td>\n",
       "      <td>1964</td>\n",
       "      <td>9731361.0</td>\n",
       "      <td>0</td>\n",
       "      <td>0</td>\n",
       "      <td>0</td>\n",
       "      <td>0</td>\n",
       "    </tr>\n",
       "    <tr>\n",
       "      <th>2</th>\n",
       "      <td>Afghanistan</td>\n",
       "      <td>1968</td>\n",
       "      <td>10604346.0</td>\n",
       "      <td>0</td>\n",
       "      <td>0</td>\n",
       "      <td>0</td>\n",
       "      <td>0</td>\n",
       "    </tr>\n",
       "    <tr>\n",
       "      <th>3</th>\n",
       "      <td>Afghanistan</td>\n",
       "      <td>1972</td>\n",
       "      <td>11721940.0</td>\n",
       "      <td>0</td>\n",
       "      <td>0</td>\n",
       "      <td>0</td>\n",
       "      <td>0</td>\n",
       "    </tr>\n",
       "    <tr>\n",
       "      <th>4</th>\n",
       "      <td>Afghanistan</td>\n",
       "      <td>1980</td>\n",
       "      <td>13248370.0</td>\n",
       "      <td>0</td>\n",
       "      <td>0</td>\n",
       "      <td>0</td>\n",
       "      <td>0</td>\n",
       "    </tr>\n",
       "  </tbody>\n",
       "</table>\n",
       "</div>"
      ],
      "text/plain": [
       "Medal      Country  Year  Population  Bronze  Gold  Silver  Grade\n",
       "0      Afghanistan  1960   8996351.0       0     0       0      0\n",
       "1      Afghanistan  1964   9731361.0       0     0       0      0\n",
       "2      Afghanistan  1968  10604346.0       0     0       0      0\n",
       "3      Afghanistan  1972  11721940.0       0     0       0      0\n",
       "4      Afghanistan  1980  13248370.0       0     0       0      0"
      ]
     },
     "execution_count": 762,
     "metadata": {},
     "output_type": "execute_result"
    }
   ],
   "source": [
    "events.head()"
   ]
  },
  {
   "cell_type": "code",
   "execution_count": 763,
   "metadata": {},
   "outputs": [
    {
     "data": {
      "text/html": [
       "<div>\n",
       "<style scoped>\n",
       "    .dataframe tbody tr th:only-of-type {\n",
       "        vertical-align: middle;\n",
       "    }\n",
       "\n",
       "    .dataframe tbody tr th {\n",
       "        vertical-align: top;\n",
       "    }\n",
       "\n",
       "    .dataframe thead th {\n",
       "        text-align: right;\n",
       "    }\n",
       "</style>\n",
       "<table border=\"1\" class=\"dataframe\">\n",
       "  <thead>\n",
       "    <tr style=\"text-align: right;\">\n",
       "      <th>Medal</th>\n",
       "      <th>Country</th>\n",
       "      <th>Year</th>\n",
       "      <th>Population</th>\n",
       "      <th>Bronze</th>\n",
       "      <th>Gold</th>\n",
       "      <th>Silver</th>\n",
       "      <th>Grade</th>\n",
       "    </tr>\n",
       "  </thead>\n",
       "  <tbody>\n",
       "    <tr>\n",
       "      <th>69</th>\n",
       "      <td>Australia</td>\n",
       "      <td>1960</td>\n",
       "      <td>10276477.0</td>\n",
       "      <td>11</td>\n",
       "      <td>10</td>\n",
       "      <td>21</td>\n",
       "      <td>83</td>\n",
       "    </tr>\n",
       "    <tr>\n",
       "      <th>70</th>\n",
       "      <td>Australia</td>\n",
       "      <td>1964</td>\n",
       "      <td>11167000.0</td>\n",
       "      <td>26</td>\n",
       "      <td>8</td>\n",
       "      <td>3</td>\n",
       "      <td>56</td>\n",
       "    </tr>\n",
       "    <tr>\n",
       "      <th>71</th>\n",
       "      <td>Australia</td>\n",
       "      <td>1968</td>\n",
       "      <td>12009000.0</td>\n",
       "      <td>11</td>\n",
       "      <td>5</td>\n",
       "      <td>35</td>\n",
       "      <td>96</td>\n",
       "    </tr>\n",
       "    <tr>\n",
       "      <th>72</th>\n",
       "      <td>Australia</td>\n",
       "      <td>1972</td>\n",
       "      <td>13177000.0</td>\n",
       "      <td>2</td>\n",
       "      <td>11</td>\n",
       "      <td>7</td>\n",
       "      <td>49</td>\n",
       "    </tr>\n",
       "    <tr>\n",
       "      <th>73</th>\n",
       "      <td>Australia</td>\n",
       "      <td>1976</td>\n",
       "      <td>14033000.0</td>\n",
       "      <td>7</td>\n",
       "      <td>0</td>\n",
       "      <td>15</td>\n",
       "      <td>37</td>\n",
       "    </tr>\n",
       "  </tbody>\n",
       "</table>\n",
       "</div>"
      ],
      "text/plain": [
       "Medal    Country  Year  Population  Bronze  Gold  Silver  Grade\n",
       "69     Australia  1960  10276477.0      11    10      21     83\n",
       "70     Australia  1964  11167000.0      26     8       3     56\n",
       "71     Australia  1968  12009000.0      11     5      35     96\n",
       "72     Australia  1972  13177000.0       2    11       7     49\n",
       "73     Australia  1976  14033000.0       7     0      15     37"
      ]
     },
     "execution_count": 763,
     "metadata": {},
     "output_type": "execute_result"
    }
   ],
   "source": [
    "countries = ['USA', 'Australia', 'Russia']\n",
    "top_countries = events[events.Country.isin(countries)]\n",
    "top_countries.head()"
   ]
  },
  {
   "cell_type": "code",
   "execution_count": 764,
   "metadata": {},
   "outputs": [
    {
     "data": {
      "image/png": "[encoded data removed]",
      "text/plain": [
       "<Figure size 440.5x360 with 1 Axes>"
      ]
     },
     "metadata": {
      "needs_background": "light"
     },
     "output_type": "display_data"
    }
   ],
   "source": [
    "sns.lmplot(x=\"Grade\", y=\"Population\", hue=\"Country\", data=top_countries);"
   ]
  },
  {
   "cell_type": "code",
   "execution_count": 767,
   "metadata": {},
   "outputs": [
    {
     "data": {
      "image/png": "[encoded data removed]",
      "text/plain": [
       "<Figure size 432x288 with 2 Axes>"
      ]
     },
     "metadata": {
      "needs_background": "light"
     },
     "output_type": "display_data"
    },
    {
     "data": {
      "image/png": "[encoded data removed]",
      "text/plain": [
       "<Figure size 432x288 with 2 Axes>"
      ]
     },
     "metadata": {
      "needs_background": "light"
     },
     "output_type": "display_data"
    }
   ],
   "source": [
    "Australia = top_countries[top_countries['Country'] == 'Australia']\n",
    "Russia = top_countries[top_countries['Country'] == 'Russia']\n",
    "USA = top_countries[top_countries['Country'] == 'USA']\n",
    "\n",
    "ax = Australia.plot(x=\"Year\", y=\"Population\", legend=False)\n",
    "ax2 = ax.twinx()\n",
    "Australia.plot(x=\"Year\", y=\"Grade\", ax=ax2, legend=False, color=\"r\")\n",
    "ax.figure.legend()\n",
    "plt.grid(True)\n",
    "\n",
    "ax = USA.plot(x=\"Year\", y=\"Population\", legend=False)\n",
    "ax2 = ax.twinx()\n",
    "USA.plot(x=\"Year\", y=\"Grade\", ax=ax2, legend=False, color=\"r\")\n",
    "ax.figure.legend()\n",
    "plt.grid(True)\n",
    "\n"
   ]
  }
 ],
 "metadata": {
  "kernelspec": {
   "display_name": "Python 3",
   "language": "python",
   "name": "python3"
  },
  "language_info": {
   "codemirror_mode": {
    "name": "ipython",
    "version": 3
   },
   "file_extension": ".py",
   "mimetype": "text/x-python",
   "name": "python",
   "nbconvert_exporter": "python",
   "pygments_lexer": "ipython3",
   "version": "3.7.3"
  }
 },
 "nbformat": 4,
 "nbformat_minor": 2
}
